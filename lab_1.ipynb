{
 "cells": [
  {
   "cell_type": "code",
   "execution_count": 5,
   "metadata": {},
   "outputs": [
    {
     "name": "stdout",
     "output_type": "stream",
     "text": [
      "Collecting cvxpy\n",
      "  Obtaining dependency information for cvxpy from https://files.pythonhosted.org/packages/c2/8d/57a601819a720b4999017ad614f16fa87a0b8a53d0d28ede273d390f30e9/cvxpy-1.3.2-cp311-cp311-win_amd64.whl.metadata\n",
      "  Downloading cvxpy-1.3.2-cp311-cp311-win_amd64.whl.metadata (8.9 kB)\n",
      "Collecting osqp>=0.4.1 (from cvxpy)\n",
      "  Obtaining dependency information for osqp>=0.4.1 from https://files.pythonhosted.org/packages/23/46/232041be3d85624ec4c20b3bdb8bd4bfb6640851901db155917e0c412aef/osqp-0.6.3-cp311-cp311-win_amd64.whl.metadata\n",
      "  Downloading osqp-0.6.3-cp311-cp311-win_amd64.whl.metadata (1.8 kB)\n",
      "Collecting ecos>=2 (from cvxpy)\n",
      "  Downloading ecos-2.0.12-cp311-cp311-win_amd64.whl (72 kB)\n",
      "     ---------------------------------------- 0.0/72.0 kB ? eta -:--:--\n",
      "     ----- ---------------------------------- 10.2/72.0 kB ? eta -:--:--\n",
      "     ---------------- --------------------- 30.7/72.0 kB 325.1 kB/s eta 0:00:01\n",
      "     -------------------------------- ----- 61.4/72.0 kB 465.5 kB/s eta 0:00:01\n",
      "     -------------------------------------  71.7/72.0 kB 558.5 kB/s eta 0:00:01\n",
      "     -------------------------------------- 72.0/72.0 kB 359.3 kB/s eta 0:00:00\n",
      "Collecting scs>=1.1.6 (from cvxpy)\n",
      "  Downloading scs-3.2.3-cp311-cp311-win_amd64.whl (8.2 MB)\n",
      "     ---------------------------------------- 0.0/8.2 MB ? eta -:--:--\n",
      "     ---------------------------------------- 0.0/8.2 MB ? eta -:--:--\n",
      "     ---------------------------------------- 0.1/8.2 MB 1.1 MB/s eta 0:00:08\n",
      "      --------------------------------------- 0.1/8.2 MB 1.3 MB/s eta 0:00:07\n",
      "     - -------------------------------------- 0.2/8.2 MB 1.4 MB/s eta 0:00:06\n",
      "     - -------------------------------------- 0.4/8.2 MB 1.7 MB/s eta 0:00:05\n",
      "     -- ------------------------------------- 0.6/8.2 MB 2.2 MB/s eta 0:00:04\n",
      "     --- ------------------------------------ 0.7/8.2 MB 2.4 MB/s eta 0:00:04\n",
      "     ----- ---------------------------------- 1.1/8.2 MB 3.2 MB/s eta 0:00:03\n",
      "     ------ --------------------------------- 1.4/8.2 MB 3.6 MB/s eta 0:00:02\n",
      "     --------- ------------------------------ 2.0/8.2 MB 4.5 MB/s eta 0:00:02\n",
      "     ---------- ----------------------------- 2.2/8.2 MB 4.6 MB/s eta 0:00:02\n",
      "     ------------ --------------------------- 2.6/8.2 MB 4.9 MB/s eta 0:00:02\n",
      "     -------------- ------------------------- 3.0/8.2 MB 5.1 MB/s eta 0:00:02\n",
      "     --------------- ------------------------ 3.3/8.2 MB 5.1 MB/s eta 0:00:01\n",
      "     ----------------- ---------------------- 3.6/8.2 MB 5.3 MB/s eta 0:00:01\n",
      "     ------------------- -------------------- 3.9/8.2 MB 5.5 MB/s eta 0:00:01\n",
      "     -------------------- ------------------- 4.3/8.2 MB 5.6 MB/s eta 0:00:01\n",
      "     ---------------------- ----------------- 4.7/8.2 MB 5.8 MB/s eta 0:00:01\n",
      "     ------------------------ --------------- 5.1/8.2 MB 5.9 MB/s eta 0:00:01\n",
      "     -------------------------- ------------- 5.5/8.2 MB 6.0 MB/s eta 0:00:01\n",
      "     ----------------------------- ---------- 6.0/8.2 MB 6.2 MB/s eta 0:00:01\n",
      "     ------------------------------ --------- 6.3/8.2 MB 6.4 MB/s eta 0:00:01\n",
      "     ------------------------------ --------- 6.3/8.2 MB 6.4 MB/s eta 0:00:01\n",
      "     ------------------------------ --------- 6.3/8.2 MB 6.4 MB/s eta 0:00:01\n",
      "     ------------------------------ --------- 6.3/8.2 MB 6.4 MB/s eta 0:00:01\n",
      "     ----------------------------------- ---- 7.3/8.2 MB 6.2 MB/s eta 0:00:01\n",
      "     ---------------------------------------  8.2/8.2 MB 6.8 MB/s eta 0:00:01\n",
      "     ---------------------------------------  8.2/8.2 MB 6.8 MB/s eta 0:00:01\n",
      "     ---------------------------------------- 8.2/8.2 MB 6.3 MB/s eta 0:00:00\n",
      "Requirement already satisfied: numpy>=1.15 in c:\\users\\dimak\\appdata\\local\\packages\\pythonsoftwarefoundation.python.3.11_qbz5n2kfra8p0\\localcache\\local-packages\\python311\\site-packages (from cvxpy) (1.24.4)\n",
      "Collecting scipy>=1.1.0 (from cvxpy)\n",
      "  Obtaining dependency information for scipy>=1.1.0 from https://files.pythonhosted.org/packages/81/d7/d2537d51efb692d0c411e64267ba349e7668d40f5bc73cefe78ccd650dcd/scipy-1.11.3-cp311-cp311-win_amd64.whl.metadata\n",
      "  Downloading scipy-1.11.3-cp311-cp311-win_amd64.whl.metadata (60 kB)\n",
      "     ---------------------------------------- 0.0/60.4 kB ? eta -:--:--\n",
      "     ---------------------------------------- 60.4/60.4 kB 3.1 MB/s eta 0:00:00\n",
      "Collecting setuptools>65.5.1 (from cvxpy)\n",
      "  Obtaining dependency information for setuptools>65.5.1 from https://files.pythonhosted.org/packages/bb/26/7945080113158354380a12ce26873dd6c1ebd88d47f5bc24e2c5bb38c16a/setuptools-68.2.2-py3-none-any.whl.metadata\n",
      "  Downloading setuptools-68.2.2-py3-none-any.whl.metadata (6.3 kB)\n",
      "Collecting qdldl (from osqp>=0.4.1->cvxpy)\n",
      "  Obtaining dependency information for qdldl from https://files.pythonhosted.org/packages/f3/0c/972bd00b80aefc57c9a25ca47f802e315ce054fe72cd74d95af6c0f5b3f0/qdldl-0.1.7.post0-cp311-cp311-win_amd64.whl.metadata\n",
      "  Downloading qdldl-0.1.7.post0-cp311-cp311-win_amd64.whl.metadata (1.8 kB)\n",
      "Downloading cvxpy-1.3.2-cp311-cp311-win_amd64.whl (892 kB)\n",
      "   ---------------------------------------- 0.0/892.6 kB ? eta -:--:--\n",
      "   -------------------------------- ------ 737.3/892.6 kB 23.5 MB/s eta 0:00:01\n",
      "   --------------------------------------- 892.6/892.6 kB 14.2 MB/s eta 0:00:00\n",
      "Downloading osqp-0.6.3-cp311-cp311-win_amd64.whl (292 kB)\n",
      "   ---------------------------------------- 0.0/293.0 kB ? eta -:--:--\n",
      "   ---------------------------------------  286.7/293.0 kB 5.9 MB/s eta 0:00:01\n",
      "   ---------------------------------------- 293.0/293.0 kB 3.6 MB/s eta 0:00:00\n",
      "Downloading scipy-1.11.3-cp311-cp311-win_amd64.whl (44.1 MB)\n",
      "   ---------------------------------------- 0.0/44.1 MB ? eta -:--:--\n",
      "   ---------------------------------------- 0.3/44.1 MB 5.3 MB/s eta 0:00:09\n",
      "    --------------------------------------- 0.6/44.1 MB 6.5 MB/s eta 0:00:07\n",
      "    --------------------------------------- 0.9/44.1 MB 6.4 MB/s eta 0:00:07\n",
      "   - -------------------------------------- 1.2/44.1 MB 6.5 MB/s eta 0:00:07\n",
      "   - -------------------------------------- 1.5/44.1 MB 6.4 MB/s eta 0:00:07\n",
      "   - -------------------------------------- 1.6/44.1 MB 6.5 MB/s eta 0:00:07\n",
      "   - -------------------------------------- 1.6/44.1 MB 6.5 MB/s eta 0:00:07\n",
      "   - -------------------------------------- 1.6/44.1 MB 6.5 MB/s eta 0:00:07\n",
      "   - -------------------------------------- 1.6/44.1 MB 6.5 MB/s eta 0:00:07\n",
      "   -- ------------------------------------- 2.6/44.1 MB 5.4 MB/s eta 0:00:08\n",
      "   --- ------------------------------------ 3.7/44.1 MB 6.9 MB/s eta 0:00:06\n",
      "   --- ------------------------------------ 4.1/44.1 MB 7.1 MB/s eta 0:00:06\n",
      "   ---- ----------------------------------- 4.5/44.1 MB 7.1 MB/s eta 0:00:06\n",
      "   ---- ----------------------------------- 4.8/44.1 MB 7.2 MB/s eta 0:00:06\n",
      "   ---- ----------------------------------- 5.2/44.1 MB 7.2 MB/s eta 0:00:06\n",
      "   ----- ---------------------------------- 6.1/44.1 MB 7.3 MB/s eta 0:00:06\n",
      "   ------ --------------------------------- 6.6/44.1 MB 7.6 MB/s eta 0:00:05\n",
      "   ------ --------------------------------- 7.1/44.1 MB 7.8 MB/s eta 0:00:05\n",
      "   ------ --------------------------------- 7.6/44.1 MB 8.0 MB/s eta 0:00:05\n",
      "   ------- -------------------------------- 8.0/44.1 MB 7.9 MB/s eta 0:00:05\n",
      "   ------- -------------------------------- 8.4/44.1 MB 7.9 MB/s eta 0:00:05\n",
      "   -------- ------------------------------- 8.9/44.1 MB 8.1 MB/s eta 0:00:05\n",
      "   -------- ------------------------------- 9.3/44.1 MB 8.0 MB/s eta 0:00:05\n",
      "   -------- ------------------------------- 9.3/44.1 MB 8.0 MB/s eta 0:00:05\n",
      "   -------- ------------------------------- 9.5/44.1 MB 7.6 MB/s eta 0:00:05\n",
      "   -------- ------------------------------- 9.9/44.1 MB 7.7 MB/s eta 0:00:05\n",
      "   --------- ------------------------------ 10.2/44.1 MB 7.8 MB/s eta 0:00:05\n",
      "   --------- ------------------------------ 10.9/44.1 MB 8.0 MB/s eta 0:00:05\n",
      "   ---------- ----------------------------- 11.4/44.1 MB 8.3 MB/s eta 0:00:04\n",
      "   ---------- ----------------------------- 12.0/44.1 MB 10.2 MB/s eta 0:00:04\n",
      "   ----------- ---------------------------- 12.5/44.1 MB 9.8 MB/s eta 0:00:04\n",
      "   ----------- ---------------------------- 13.0/44.1 MB 9.5 MB/s eta 0:00:04\n",
      "   ------------ --------------------------- 13.6/44.1 MB 9.1 MB/s eta 0:00:04\n",
      "   ------------ --------------------------- 14.2/44.1 MB 9.2 MB/s eta 0:00:04\n",
      "   ------------- -------------------------- 14.9/44.1 MB 9.6 MB/s eta 0:00:04\n",
      "   -------------- ------------------------- 15.5/44.1 MB 10.4 MB/s eta 0:00:03\n",
      "   -------------- ------------------------- 16.2/44.1 MB 10.2 MB/s eta 0:00:03\n",
      "   --------------- ------------------------ 16.7/44.1 MB 10.1 MB/s eta 0:00:03\n",
      "   --------------- ------------------------ 17.2/44.1 MB 10.2 MB/s eta 0:00:03\n",
      "   --------------- ------------------------ 17.6/44.1 MB 10.1 MB/s eta 0:00:03\n",
      "   ---------------- ----------------------- 18.2/44.1 MB 10.2 MB/s eta 0:00:03\n",
      "   ---------------- ----------------------- 18.6/44.1 MB 10.4 MB/s eta 0:00:03\n",
      "   ----------------- ---------------------- 19.3/44.1 MB 10.6 MB/s eta 0:00:03\n",
      "   ----------------- ---------------------- 19.7/44.1 MB 11.5 MB/s eta 0:00:03\n",
      "   ------------------ --------------------- 20.2/44.1 MB 11.5 MB/s eta 0:00:03\n",
      "   ------------------ --------------------- 20.6/44.1 MB 11.5 MB/s eta 0:00:03\n",
      "   ------------------- -------------------- 21.0/44.1 MB 11.3 MB/s eta 0:00:03\n",
      "   ------------------- -------------------- 21.5/44.1 MB 11.3 MB/s eta 0:00:03\n",
      "   ------------------- -------------------- 22.0/44.1 MB 11.5 MB/s eta 0:00:02\n",
      "   -------------------- ------------------- 22.6/44.1 MB 11.3 MB/s eta 0:00:02\n",
      "   -------------------- ------------------- 23.0/44.1 MB 11.3 MB/s eta 0:00:02\n",
      "   --------------------- ------------------ 23.2/44.1 MB 11.3 MB/s eta 0:00:02\n",
      "   --------------------- ------------------ 23.5/44.1 MB 10.7 MB/s eta 0:00:02\n",
      "   --------------------- ------------------ 24.1/44.1 MB 10.7 MB/s eta 0:00:02\n",
      "   ---------------------- ----------------- 24.6/44.1 MB 10.7 MB/s eta 0:00:02\n",
      "   ---------------------- ----------------- 25.1/44.1 MB 10.6 MB/s eta 0:00:02\n",
      "   ----------------------- ---------------- 25.7/44.1 MB 10.6 MB/s eta 0:00:02\n",
      "   ----------------------- ---------------- 26.3/44.1 MB 10.6 MB/s eta 0:00:02\n",
      "   ------------------------ --------------- 26.8/44.1 MB 10.4 MB/s eta 0:00:02\n",
      "   ------------------------ --------------- 27.3/44.1 MB 10.4 MB/s eta 0:00:02\n",
      "   ------------------------- -------------- 27.9/44.1 MB 10.6 MB/s eta 0:00:02\n",
      "   ------------------------- -------------- 28.5/44.1 MB 10.7 MB/s eta 0:00:02\n",
      "   -------------------------- ------------- 29.0/44.1 MB 10.9 MB/s eta 0:00:02\n",
      "   -------------------------- ------------- 29.7/44.1 MB 10.9 MB/s eta 0:00:02\n",
      "   --------------------------- ------------ 30.3/44.1 MB 11.1 MB/s eta 0:00:02\n",
      "   --------------------------- ------------ 30.8/44.1 MB 11.3 MB/s eta 0:00:02\n",
      "   ---------------------------- ----------- 31.5/44.1 MB 11.5 MB/s eta 0:00:02\n",
      "   ----------------------------- ---------- 32.1/44.1 MB 11.7 MB/s eta 0:00:02\n",
      "   ----------------------------- ---------- 32.9/44.1 MB 11.9 MB/s eta 0:00:01\n",
      "   ------------------------------ --------- 33.5/44.1 MB 12.4 MB/s eta 0:00:01\n",
      "   ------------------------------- -------- 34.3/44.1 MB 12.8 MB/s eta 0:00:01\n",
      "   ------------------------------- -------- 35.1/44.1 MB 13.4 MB/s eta 0:00:01\n",
      "   -------------------------------- ------- 35.8/44.1 MB 13.4 MB/s eta 0:00:01\n",
      "   -------------------------------- ------- 36.3/44.1 MB 13.4 MB/s eta 0:00:01\n",
      "   --------------------------------- ------ 36.9/44.1 MB 13.6 MB/s eta 0:00:01\n",
      "   ---------------------------------- ----- 37.6/44.1 MB 13.6 MB/s eta 0:00:01\n",
      "   ---------------------------------- ----- 38.3/44.1 MB 13.9 MB/s eta 0:00:01\n",
      "   ----------------------------------- ---- 39.0/44.1 MB 13.9 MB/s eta 0:00:01\n",
      "   ----------------------------------- ---- 39.5/44.1 MB 13.9 MB/s eta 0:00:01\n",
      "   ------------------------------------ --- 40.3/44.1 MB 13.9 MB/s eta 0:00:01\n",
      "   ------------------------------------- -- 41.0/44.1 MB 14.2 MB/s eta 0:00:01\n",
      "   ------------------------------------- -- 41.7/44.1 MB 14.2 MB/s eta 0:00:01\n",
      "   -------------------------------------- - 42.1/44.1 MB 13.9 MB/s eta 0:00:01\n",
      "   -------------------------------------- - 42.8/44.1 MB 13.9 MB/s eta 0:00:01\n",
      "   ---------------------------------------  43.6/44.1 MB 14.2 MB/s eta 0:00:01\n",
      "   ---------------------------------------  44.1/44.1 MB 13.9 MB/s eta 0:00:01\n",
      "   ---------------------------------------  44.1/44.1 MB 13.9 MB/s eta 0:00:01\n",
      "   ---------------------------------------  44.1/44.1 MB 13.9 MB/s eta 0:00:01\n",
      "   ---------------------------------------  44.1/44.1 MB 13.9 MB/s eta 0:00:01\n",
      "   ---------------------------------------- 44.1/44.1 MB 10.7 MB/s eta 0:00:00\n",
      "Downloading setuptools-68.2.2-py3-none-any.whl (807 kB)\n",
      "   ---------------------------------------- 0.0/807.9 kB ? eta -:--:--\n",
      "   --------------------------------------  798.7/807.9 kB 16.8 MB/s eta 0:00:01\n",
      "   --------------------------------------  798.7/807.9 kB 16.8 MB/s eta 0:00:01\n",
      "   ---------------------------------------- 807.9/807.9 kB 8.5 MB/s eta 0:00:00\n",
      "Downloading qdldl-0.1.7.post0-cp311-cp311-win_amd64.whl (85 kB)\n",
      "   ---------------------------------------- 0.0/85.1 kB ? eta -:--:--\n",
      "   ---------------------------------------- 85.1/85.1 kB 5.0 MB/s eta 0:00:00\n",
      "Installing collected packages: setuptools, scipy, scs, qdldl, ecos, osqp, cvxpy\n",
      "Successfully installed cvxpy-1.3.2 ecos-2.0.12 osqp-0.6.3 qdldl-0.1.7.post0 scipy-1.11.3 scs-3.2.3 setuptools-68.2.2\n",
      "Note: you may need to restart the kernel to use updated packages.\n"
     ]
    }
   ],
   "source": [
    "%pip install -q cvxpy"
   ]
  },
  {
   "cell_type": "code",
   "execution_count": 2,
   "metadata": {},
   "outputs": [],
   "source": [
    "import numpy as np\n",
    "import cvxpy as cp"
   ]
  },
  {
   "cell_type": "markdown",
   "metadata": {},
   "source": [
    "# Задача 1"
   ]
  },
  {
   "cell_type": "code",
   "execution_count": 3,
   "metadata": {},
   "outputs": [],
   "source": [
    "# Исходные данные\n",
    "D1_data = np.array([\n",
    "    [150, 500, 0],\n",
    "    [100, 0, 400],\n",
    "    [50, 50, 0],\n",
    "    [0, 100, 100],\n",
    "    [100, 0, 50]\n",
    "])\n",
    "D3_data = np.array([\n",
    "    [50, 50, 10, 300],\n",
    "    [70, 150, 200, 250]\n",
    "])\n",
    "C1_data = np.array([\n",
    "    [1, 2, 0],\n",
    "    [2, 0, 1],\n",
    "    [3, 3, 0],\n",
    "    [0, 3, 2],\n",
    "    [2, 0, 3]\n",
    "])\n",
    "C2_data = np.array([\n",
    "    [2, 3],\n",
    "    [1, 4],\n",
    "    [3, 1]\n",
    "])\n",
    "C3_data = np.array([\n",
    "    [2, 1, 3, 4],\n",
    "    [3, 2, 3, 1]\n",
    "])\n",
    "\n",
    "power_data = np.array([600, 500, 700, 400, 600])\n",
    "price_data = np.array([1.3, 1.5, 1.2, 1.7, 1.1])\n",
    "orders_data = np.array([100, 200, 200, 500])\n",
    "capacity_data = np.array([200, 500, 400])"
   ]
  },
  {
   "cell_type": "code",
   "execution_count": 4,
   "metadata": {},
   "outputs": [],
   "source": [
    "# Переменные решения\n",
    "I = cp.Variable(5, boolean=True)\n",
    "\n",
    "D1_v = cp.Variable(C1_data.shape, nonneg=True)\n",
    "D2_v = cp.Variable(C2_data.shape, nonneg=True)\n",
    "D3_v = cp.Variable(C3_data.shape, nonneg=True)"
   ]
  },
  {
   "cell_type": "code",
   "execution_count": 5,
   "metadata": {},
   "outputs": [],
   "source": [
    "# Ограничения\n",
    "constraints = [\n",
    "    cp.sum(D1_v, axis=1) <= cp.multiply(power_data, I),\n",
    "    cp.sum(I) <= 2,\n",
    "\n",
    "    cp.sum(D1_v, axis=0) <= capacity_data,\n",
    "    D1_v <= D1_data,\n",
    "\n",
    "    cp.sum(D1_v, axis=0) == cp.sum(D2_v, axis=1),\n",
    "    cp.sum(D2_v, axis=0) == cp.sum(D3_v, axis=1),\n",
    "\n",
    "    D3_v <= D3_data,\n",
    "    cp.sum(D3_v, axis=0) == orders_data\n",
    "]"
   ]
  },
  {
   "cell_type": "code",
   "execution_count": 6,
   "metadata": {},
   "outputs": [],
   "source": [
    "# Целевая функция\n",
    "obj = cp.Minimize(\n",
    "    cp.sum(cp.multiply(cp.sum(D1_v, axis=1), price_data)) +\n",
    "    cp.sum(cp.multiply(D1_v, C1_data)) +\n",
    "    cp.sum(cp.multiply(D2_v, C2_data)) +\n",
    "    cp.sum(cp.multiply(D3_v, C3_data))\n",
    ")"
   ]
  },
  {
   "cell_type": "code",
   "execution_count": 7,
   "metadata": {},
   "outputs": [
    {
     "name": "stdout",
     "output_type": "stream",
     "text": [
      "Restricted license - for non-production use only - expires 2025-11-24\n",
      "status: optimal\n",
      "optimal value: 6810.0\n",
      "optimal var:\n",
      " [[150. 400.   0.]\n",
      " [ 50.   0. 400.]\n",
      " [  0.   0.   0.]\n",
      " [  0.   0.   0.]\n",
      " [  0.   0.   0.]] \n",
      "\n",
      " [[  0. 200.]\n",
      " [400.   0.]\n",
      " [  0. 400.]] \n",
      "\n",
      " [[ 50.  50.  10. 290.]\n",
      " [ 50. 150. 190. 210.]] \n",
      "\n",
      " [1. 1. 0. 0. 0.]\n"
     ]
    }
   ],
   "source": [
    "# Решение задачи\n",
    "prob = cp.Problem(obj, constraints)\n",
    "prob.solve()\n",
    "print(\"status:\", prob.status)\n",
    "print(\"optimal value:\", prob.value)\n",
    "print(\"optimal var:\\n\", D1_v.value, \"\\n\\n\", D2_v.value, \"\\n\\n\", D3_v.value, \"\\n\\n\", I.value)"
   ]
  },
  {
   "cell_type": "code",
   "execution_count": 9,
   "metadata": {},
   "outputs": [],
   "source": [
    "# Дополнительные ограничения\n",
    "capacity_buf = np.array([100, 0, 0])\n",
    "\n",
    "constraints = [\n",
    "    cp.sum(D1_v, axis=1) <= cp.multiply(power_data, I),\n",
    "    cp.sum(I) <= 2,\n",
    "\n",
    "    cp.sum(D1_v, axis=0) <= capacity_data - capacity_buf,\n",
    "    D1_v <= D1_data,\n",
    "\n",
    "    cp.sum(D1_v, axis=0) + capacity_buf == cp.sum(D2_v, axis=1),\n",
    "    cp.sum(D2_v, axis=0) == cp.sum(D3_v, axis=1),\n",
    "\n",
    "    D3_v <= D3_data,\n",
    "    cp.sum(D3_v, axis=0) == orders_data\n",
    "]"
   ]
  },
  {
   "cell_type": "code",
   "execution_count": 10,
   "metadata": {},
   "outputs": [],
   "source": [
    "# Обновление целевой функции и решение\n",
    "obj = cp.Minimize(\n",
    "    cp.sum(cp.multiply(cp.sum(D1_v, axis=1), price_data)) +\n",
    "    cp.sum(cp.multiply(D1_v, C1_data)) +\n",
    "    cp.sum(cp.multiply(D2_v, C2_data)) +\n",
    "    cp.sum(cp.multiply(D3_v, C3_data))\n",
    ")"
   ]
  },
  {
   "cell_type": "code",
   "execution_count": 11,
   "metadata": {},
   "outputs": [
    {
     "name": "stdout",
     "output_type": "stream",
     "text": [
      "status: optimal\n",
      "optimal value: 6520.0\n",
      "optimal var:\n",
      " [[100. 400.   0.]\n",
      " [  0.   0. 400.]\n",
      " [  0.   0.   0.]\n",
      " [  0.   0.   0.]\n",
      " [  0.   0.   0.]] \n",
      "\n",
      " [[  0. 200.]\n",
      " [400.   0.]\n",
      " [  0. 400.]] \n",
      "\n",
      " [[ 50.  50.  10. 290.]\n",
      " [ 50. 150. 190. 210.]] \n",
      "\n",
      " [1. 1. 0. 0. 0.]\n"
     ]
    }
   ],
   "source": [
    "prob = cp.Problem(obj, constraints)\n",
    "prob.solve()\n",
    "print(\"status:\", prob.status)\n",
    "print(\"optimal value:\", prob.value)\n",
    "print(\"optimal var:\\n\", D1_v.value, \"\\n\\n\", D2_v.value, \"\\n\\n\", D3_v.value, \"\\n\\n\", I.value)"
   ]
  },
  {
   "cell_type": "code",
   "execution_count": 12,
   "metadata": {},
   "outputs": [],
   "source": [
    "# Дополнительные переменные и ограничения\n",
    "prod_cost = np.array([1, 2, 3, 2.5, 1.5])\n",
    "\n",
    "constraints = [\n",
    "    cp.sum(D1_v, axis=1) <= cp.multiply(power_data, I),\n",
    "    cp.sum(I) <= 2,\n",
    "\n",
    "    cp.sum(D1_v, axis=0) <= capacity_data,\n",
    "    D1_v <= D1_data,\n",
    "\n",
    "    cp.sum(D1_v, axis=0) == cp.sum(D2_v, axis=1),\n",
    "    cp.sum(D2_v, axis=0) == cp.sum(D3_v, axis=1),\n",
    "\n",
    "    D3_v <= D3_data,\n",
    "    cp.sum(D3_v, axis=0) == orders_data\n",
    "]"
   ]
  },
  {
   "cell_type": "code",
   "execution_count": 13,
   "metadata": {},
   "outputs": [],
   "source": [
    "# Обновление целевой функции и решение\n",
    "obj = cp.Minimize(\n",
    "    cp.sum(cp.multiply(I, prod_cost)) +\n",
    "    cp.sum(cp.multiply(cp.sum(D1_v, axis=1), price_data)) +\n",
    "    cp.sum(cp.multiply(D1_v, C1_data)) +\n",
    "    cp.sum(cp.multiply(D2_v, C2_data)) +\n",
    "    cp.sum(cp.multiply(D3_v, C3_data))\n",
    ")"
   ]
  },
  {
   "cell_type": "code",
   "execution_count": 14,
   "metadata": {},
   "outputs": [
    {
     "name": "stdout",
     "output_type": "stream",
     "text": [
      "status: optimal\n",
      "optimal value: 6813.0\n",
      "optimal var:\n",
      " [[150. 400.   0.]\n",
      " [ 50.   0. 400.]\n",
      " [  0.   0.   0.]\n",
      " [  0.   0.   0.]\n",
      " [  0.   0.   0.]] \n",
      "\n",
      " [[  0. 200.]\n",
      " [400.   0.]\n",
      " [  0. 400.]] \n",
      "\n",
      " [[ 50.  50.  10. 290.]\n",
      " [ 50. 150. 190. 210.]] \n",
      "\n",
      " [1. 1. 0. 0. 0.]\n"
     ]
    }
   ],
   "source": [
    "prob = cp.Problem(obj, constraints)\n",
    "prob.solve()\n",
    "print(\"status:\", prob.status)\n",
    "print(\"optimal value:\", prob.value)\n",
    "print(\"optimal var:\\n\", D1_v.value, \"\\n\\n\", D2_v.value, \"\\n\\n\", D3_v.value, \"\\n\\n\", I.value)"
   ]
  },
  {
   "cell_type": "code",
   "execution_count": 15,
   "metadata": {},
   "outputs": [],
   "source": [
    "# Еще больше переменных и ограничений\n",
    "capacity_cost = np.array([2, 1.5, 3])\n",
    "\n",
    "constraints = [\n",
    "    cp.sum(D1_v, axis=1) <= cp.multiply(power_data, I),\n",
    "    cp.sum(I) <= 2,\n",
    "\n",
    "    cp.sum(D1_v, axis=0) <= capacity_data,\n",
    "    D1_v <= D1_data,\n",
    "\n",
    "    cp.sum(D1_v, axis=0) == cp.sum(D2_v, axis=1),\n",
    "    cp.sum(D2_v, axis=0) == cp.sum(D3_v, axis=1),\n",
    "\n",
    "    D3_v <= D3_data,\n",
    "    cp.sum(D3_v, axis=0) == orders_data\n",
    "]"
   ]
  },
  {
   "cell_type": "code",
   "execution_count": 16,
   "metadata": {},
   "outputs": [],
   "source": [
    "# Обновление целевой функции и решение\n",
    "obj = cp.Minimize(\n",
    "    cp.sum(cp.multiply(cp.sum(D1_v, axis=0), capacity_cost)) +\n",
    "    cp.sum(cp.multiply(cp.sum(D1_v, axis=1), price_data)) +\n",
    "    cp.sum(cp.multiply(D1_v, C1_data)) +\n",
    "    cp.sum(cp.multiply(D2_v, C2_data)) +\n",
    "    cp.sum(cp.multiply(D3_v, C3_data))\n",
    ")"
   ]
  },
  {
   "cell_type": "code",
   "execution_count": 18,
   "metadata": {},
   "outputs": [
    {
     "name": "stdout",
     "output_type": "stream",
     "text": [
      "status: optimal\n",
      "optimal value: 9010.0\n",
      "optimal var:\n",
      " [[150. 400.   0.]\n",
      " [ 50.   0. 400.]\n",
      " [  0.   0.   0.]\n",
      " [  0.   0.   0.]\n",
      " [  0.   0.   0.]] \n",
      "\n",
      " [[  0. 200.]\n",
      " [400.   0.]\n",
      " [  0. 400.]] \n",
      "\n",
      " [[ 50.  50.  10. 290.]\n",
      " [ 50. 150. 190. 210.]] \n",
      "\n",
      " [1. 1. 0. 0. 0.]\n"
     ]
    }
   ],
   "source": [
    "prob = cp.Problem(obj, constraints)\n",
    "prob.solve()\n",
    "print(\"status:\", prob.status)\n",
    "print(\"optimal value:\", prob.value)\n",
    "print(\"optimal var:\\n\", D1_v.value, \"\\n\\n\", D2_v.value, \"\\n\\n\", D3_v.value, \"\\n\\n\", I.value)"
   ]
  },
  {
   "cell_type": "markdown",
   "metadata": {},
   "source": [
    "# Задача 3"
   ]
  },
  {
   "cell_type": "code",
   "execution_count": 19,
   "metadata": {},
   "outputs": [],
   "source": [
    "X = cp.Variable(2, integer=True)\n",
    "Y = cp.Variable(3, integer=True)\n",
    "Z = cp.Variable(3, integer=True)\n",
    "K = cp.Variable(integer=True)"
   ]
  },
  {
   "cell_type": "code",
   "execution_count": 20,
   "metadata": {},
   "outputs": [],
   "source": [
    "constraints = [\n",
    "    X >= 0, Y >= 0, Z >= 0, K >= 0,\n",
    "\n",
    "    cp.sum(X) <= 100, cp.sum(Y) <= 200, cp.sum(Z) <= 300,\n",
    "\n",
    "    2 * X[0] + X[1] + 3 * Y[0] + Y[1] + 4 * Z[0] + 2 * Z[1] + Z[2] >= 3 * K,\n",
    "    X[1] + Y[1] + 2 * Y[2] + Z[1] + 2 * Z[2] >= 2 * K\n",
    "]"
   ]
  },
  {
   "cell_type": "code",
   "execution_count": 21,
   "metadata": {},
   "outputs": [],
   "source": [
    "obj = cp.Maximize(K)"
   ]
  },
  {
   "cell_type": "code",
   "execution_count": 22,
   "metadata": {},
   "outputs": [
    {
     "name": "stdout",
     "output_type": "stream",
     "text": [
      "status: optimal\n",
      "optimal value: 341.0\n",
      "optimal var:\n",
      " [  0. 100.] \n",
      "\n",
      " [200.   0.   0.] \n",
      "\n",
      " [  9.   0. 291.]\n",
      "\n"
     ]
    }
   ],
   "source": [
    "prob = cp.Problem(obj, constraints)\n",
    "prob.solve()\n",
    "print(\"status:\", prob.status)\n",
    "print(\"optimal value:\", prob.value)\n",
    "print(\"optimal var:\\n\", X.value, \"\\n\\n\", Y.value, \"\\n\\n\", Z.value)\n",
    "print()"
   ]
  },
  {
   "cell_type": "code",
   "execution_count": null,
   "metadata": {},
   "outputs": [],
   "source": []
  }
 ],
 "metadata": {
  "kernelspec": {
   "display_name": "Python 3",
   "language": "python",
   "name": "python3"
  },
  "language_info": {
   "codemirror_mode": {
    "name": "ipython",
    "version": 3
   },
   "file_extension": ".py",
   "mimetype": "text/x-python",
   "name": "python",
   "nbconvert_exporter": "python",
   "pygments_lexer": "ipython3",
   "version": "3.11.7"
  },
  "orig_nbformat": 4
 },
 "nbformat": 4,
 "nbformat_minor": 2
}
