{
 "cells": [
  {
   "cell_type": "code",
   "execution_count": 5,
   "metadata": {},
   "outputs": [],
   "source": [
    "import math\n",
    "maxsize = float('inf')"
   ]
  },
  {
   "cell_type": "code",
   "execution_count": 6,
   "metadata": {},
   "outputs": [],
   "source": [
    "def copyToFinal(curr_path):\n",
    "    final_path[:N + 1] = curr_path[:]\n",
    "    final_path[N] = curr_path[0]"
   ]
  },
  {
   "cell_type": "code",
   "execution_count": 12,
   "metadata": {},
   "outputs": [],
   "source": [
    "def firstMin(adj, i):\n",
    "    min = maxsize\n",
    "    for k in range(N):\n",
    "        if adj[i][k] < min and i != k:\n",
    "            min = adj[i][k]\n",
    " \n",
    "    return min"
   ]
  },
  {
   "cell_type": "code",
   "execution_count": 13,
   "metadata": {},
   "outputs": [],
   "source": [
    "def secondMin(adj, i):\n",
    "    first, second = maxsize, maxsize\n",
    "    for j in range(N):\n",
    "        if i == j:\n",
    "            continue\n",
    "        if adj[i][j] <= first:\n",
    "            second = first\n",
    "            first = adj[i][j]\n",
    " \n",
    "        elif(adj[i][j] <= second and\n",
    "             adj[i][j] != first):\n",
    "            second = adj[i][j]\n",
    " \n",
    "    return second"
   ]
  },
  {
   "cell_type": "code",
   "execution_count": 14,
   "metadata": {},
   "outputs": [],
   "source": [
    "def TSPRec(adj, curr_bound, curr_weight, \n",
    "              level, curr_path, visited):\n",
    "    global final_res\n",
    "\n",
    "    if level == N:\n",
    "        if adj[curr_path[level - 1]][curr_path[0]] != 0:\n",
    "            curr_res = curr_weight + adj[curr_path[level - 1]]\\\n",
    "                                        [curr_path[0]]\n",
    "            if curr_res < final_res:\n",
    "                copyToFinal(curr_path)\n",
    "                final_res = curr_res\n",
    "        return\n",
    " \n",
    "    for i in range(N):\n",
    "        if (adj[curr_path[level-1]][i] != 0 and\n",
    "                            visited[i] == False):\n",
    "            temp = curr_bound\n",
    "            curr_weight += adj[curr_path[level - 1]][i]\n",
    " \n",
    "            if level == 1:\n",
    "                curr_bound -= ((firstMin(adj, curr_path[level - 1]) +\n",
    "                                firstMin(adj, i)) / 2)\n",
    "            else:\n",
    "                curr_bound -= ((secondMin(adj, curr_path[level - 1]) +\n",
    "                                 firstMin(adj, i)) / 2)\n",
    " \n",
    "            if curr_bound + curr_weight < final_res:\n",
    "                curr_path[level] = i\n",
    "                visited[i] = True\n",
    "                 \n",
    "                TSPRec(adj, curr_bound, curr_weight, \n",
    "                       level + 1, curr_path, visited)\n",
    " \n",
    "            curr_weight -= adj[curr_path[level - 1]][i]\n",
    "            curr_bound = temp\n",
    "\n",
    "            visited = [False] * len(visited)\n",
    "            for j in range(level):\n",
    "                if curr_path[j] != -1:\n",
    "                    visited[curr_path[j]] = True"
   ]
  },
  {
   "cell_type": "code",
   "execution_count": 15,
   "metadata": {},
   "outputs": [],
   "source": [
    "def TSP(adj):\n",
    "    curr_bound = 0\n",
    "    curr_path = [-1] * (N + 1)\n",
    "    visited = [False] * N\n",
    " \n",
    "    for i in range(N):\n",
    "        curr_bound += (firstMin(adj, i) +\n",
    "                       secondMin(adj, i))\n",
    " \n",
    "    curr_bound = math.ceil(curr_bound / 2)\n",
    " \n",
    "    visited[0] = True\n",
    "    curr_path[0] = 0\n",
    " \n",
    "    TSPRec(adj, curr_bound, 0, 1, curr_path, visited)"
   ]
  },
  {
   "cell_type": "code",
   "execution_count": 16,
   "metadata": {},
   "outputs": [],
   "source": [
    "adj = np.array([\n",
    "    [0, 8, 15, 20, 10, 12, 18, 25, 22, 30, 28, 35],\n",
    "    [8, 0, 10, 12, 6, 15, 28, 30, 18, 25, 22, 28],\n",
    "    [15, 10, 0, 18, 10, 22, 25, 8, 28, 35, 30, 20],\n",
    "    [20, 12, 18, 0, 7, 30, 22, 15, 10, 18, 25, 28],\n",
    "    [10, 6, 10, 7, 0, 18, 12, 20, 25, 28, 35, 22],\n",
    "    [12, 15, 22, 30, 18, 0, 10, 22, 28, 20, 15, 8],\n",
    "    [18, 28, 25, 22, 12, 10, 0, 35, 20, 12, 30, 18],\n",
    "    [25, 30, 8, 15, 20, 22, 35, 0, 28, 18, 12, 10],\n",
    "    [22, 18, 28, 10, 25, 28, 20, 28, 0, 30, 22, 15],\n",
    "    [30, 25, 35, 18, 28, 20, 12, 18, 30, 0, 15, 10],\n",
    "    [28, 22, 30, 25, 35, 15, 30, 12, 22, 15, 0, 18],\n",
    "    [35, 28, 20, 28, 22, 8, 18, 10, 15, 10, 18, 0]\n",
    "])\n",
    "N = len(adj)\n",
    "final_path = [None] * (N + 1)\n",
    "visited = [False] * N\n",
    "final_res = maxsize"
   ]
  },
  {
   "cell_type": "code",
   "execution_count": 17,
   "metadata": {},
   "outputs": [
    {
     "name": "stdout",
     "output_type": "stream",
     "text": [
      "Minimum cost : 125\n",
      "Path Taken :  0 1 2 7 10 9 6 5 11 8 3 4 0 "
     ]
    }
   ],
   "source": [
    "TSP(adj)\n",
    "print(\"Minimum cost :\", final_res)\n",
    "print(\"Path Taken : \", end = ' ')\n",
    "for i in range(N + 1):\n",
    "    print(final_path[i], end = ' ')"
   ]
  },
  {
   "cell_type": "code",
   "execution_count": null,
   "metadata": {},
   "outputs": [],
   "source": []
  }
 ],
 "metadata": {
  "kernelspec": {
   "display_name": "Python 3",
   "language": "python",
   "name": "python3"
  },
  "language_info": {
   "codemirror_mode": {
    "name": "ipython",
    "version": 3
   },
   "file_extension": ".py",
   "mimetype": "text/x-python",
   "name": "python",
   "nbconvert_exporter": "python",
   "pygments_lexer": "ipython3",
   "version": "3.11.7"
  }
 },
 "nbformat": 4,
 "nbformat_minor": 2
}
