{
 "cells": [
  {
   "cell_type": "code",
   "execution_count": 3,
   "metadata": {},
   "outputs": [],
   "source": [
    "import numpy as np\n",
    "from itertools import permutations"
   ]
  },
  {
   "cell_type": "code",
   "execution_count": 4,
   "metadata": {},
   "outputs": [],
   "source": [
    "def tsp_branch_and_bound(cost_matrix):\n",
    "    n = len(cost_matrix)\n",
    "    \n",
    "    # Инициализация\n",
    "    bound = np.inf\n",
    "    path = []\n",
    "    vertex_queue = [(0, [0], 0)]\n",
    "\n",
    "    while vertex_queue:\n",
    "        current_vertex, current_path, current_cost = vertex_queue.pop(0)\n",
    "\n",
    "        # Оценка нижней границы\n",
    "        lower_bound = current_cost + min(\n",
    "            (cost_matrix[current_vertex][j] for j in range(n) if j not in current_path),\n",
    "            default=0\n",
    "        )\n",
    "\n",
    "        # Оценка верхней границы\n",
    "        upper_bound = current_cost + sum(\n",
    "            min(cost_matrix[i][j] for j in range(n) if j not in current_path)\n",
    "            for i in range(n) if i not in current_path\n",
    "        )\n",
    "\n",
    "        # Если верхняя граница больше текущей верхней границы, отбрасываем ветвь\n",
    "        if upper_bound >= bound:\n",
    "            continue\n",
    "\n",
    "        # Обновление оценки\n",
    "        if lower_bound < bound:\n",
    "            for next_vertex in range(n):\n",
    "                if next_vertex not in current_path:\n",
    "                    new_path = current_path + [next_vertex]\n",
    "                    new_cost = current_cost + cost_matrix[current_vertex][next_vertex]\n",
    "\n",
    "                    # Если найден меньший путь, обновляем\n",
    "                    if len(new_path) == n and cost_matrix[next_vertex][current_path[0]] != 0:\n",
    "                        new_cost += cost_matrix[next_vertex][current_path[0]]\n",
    "                        if new_cost < bound:\n",
    "                            bound = new_cost\n",
    "                            path = new_path\n",
    "                    else:\n",
    "                        vertex_queue.append((next_vertex, new_path, new_cost))\n",
    "                        vertex_queue.sort(key=lambda x: x[2])\n",
    "\n",
    "    return path, bound"
   ]
  },
  {
   "cell_type": "code",
   "execution_count": 5,
   "metadata": {},
   "outputs": [],
   "source": [
    "cost_matrix_1 = np.array([\n",
    "    [0, 8, 15, 20],\n",
    "    [8, 0, 10, 12],\n",
    "    [15, 10, 0, 18],\n",
    "    [20, 12, 18, 0]\n",
    "])\n",
    "\n",
    "cost_matrix_2  = np.array([\n",
    "    [0, 8, 15, 20, 10, 12, 18, 25, 22, 30, 28, 35],\n",
    "    [8, 0, 10, 12, 6, 15, 28, 30, 18, 25, 22, 28],\n",
    "    [15, 10, 0, 18, 10, 22, 25, 8, 28, 35, 30, 20],\n",
    "    [20, 12, 18, 0, 7, 30, 22, 15, 10, 18, 25, 28],\n",
    "    [10, 6, 10, 7, 0, 18, 12, 20, 25, 28, 35, 22],\n",
    "    [12, 15, 22, 30, 18, 0, 10, 22, 28, 20, 15, 8],\n",
    "    [18, 28, 25, 22, 12, 10, 0, 35, 20, 12, 30, 18],\n",
    "    [25, 30, 8, 15, 20, 22, 35, 0, 28, 18, 12, 10],\n",
    "    [22, 18, 28, 10, 25, 28, 20, 28, 0, 30, 22, 15],\n",
    "    [30, 25, 35, 18, 28, 20, 12, 18, 30, 0, 15, 10],\n",
    "    [28, 22, 30, 25, 35, 15, 30, 12, 22, 15, 0, 18],\n",
    "    [35, 28, 20, 28, 22, 8, 18, 10, 15, 10, 18, 0]\n",
    "])"
   ]
  },
  {
   "cell_type": "code",
   "execution_count": 6,
   "metadata": {},
   "outputs": [
    {
     "name": "stdout",
     "output_type": "stream",
     "text": [
      "Оптимальный путь: [0, 1, 3, 2]\n",
      "Оптимальная стоимость: 53\n"
     ]
    }
   ],
   "source": [
    "optimal_path_1, optimal_cost_1 = tsp_branch_and_bound(cost_matrix_1)\n",
    "print(\"Оптимальный путь:\", optimal_path_1)\n",
    "print(\"Оптимальная стоимость:\", optimal_cost_1)"
   ]
  },
  {
   "cell_type": "code",
   "execution_count": 7,
   "metadata": {},
   "outputs": [],
   "source": [
    "optimal_path_2, optimal_cost_2 = tsp_branch_and_bound(cost_matrix_2)\n",
    "print(\"Оптимальный путь:\", optimal_path_2)\n",
    "print(\"Оптимальная стоимость:\", optimal_cost_2)"
   ]
  },
  {
   "cell_type": "code",
   "execution_count": null,
   "metadata": {},
   "outputs": [],
   "source": []
  }
 ],
 "metadata": {
  "kernelspec": {
   "display_name": "Python 3",
   "language": "python",
   "name": "python3"
  },
  "language_info": {
   "codemirror_mode": {
    "name": "ipython",
    "version": 3
   },
   "file_extension": ".py",
   "mimetype": "text/x-python",
   "name": "python",
   "nbconvert_exporter": "python",
   "pygments_lexer": "ipython3",
   "version": "3.11.7"
  }
 },
 "nbformat": 4,
 "nbformat_minor": 2
}
