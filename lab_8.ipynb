{
 "cells": [
  {
   "cell_type": "code",
   "execution_count": 1,
   "id": "9a35b5da",
   "metadata": {},
   "outputs": [
    {
     "name": "stdout",
     "output_type": "stream",
     "text": [
      "Collecting gurobipy\n",
      "  Downloading gurobipy-11.0.0-cp311-cp311-win_amd64.whl.metadata (16 kB)\n",
      "Downloading gurobipy-11.0.0-cp311-cp311-win_amd64.whl (10.2 MB)\n",
      "   ---------------------------------------- 0.0/10.2 MB ? eta -:--:--\n",
      "   ---------------------------------------- 0.0/10.2 MB ? eta -:--:--\n",
      "   ---------------------------------------- 0.0/10.2 MB ? eta -:--:--\n",
      "   ---------------------------------------- 0.0/10.2 MB 217.9 kB/s eta 0:00:47\n",
      "   ---------------------------------------- 0.0/10.2 MB 217.9 kB/s eta 0:00:47\n",
      "   ---------------------------------------- 0.1/10.2 MB 297.7 kB/s eta 0:00:35\n",
      "   ---------------------------------------- 0.1/10.2 MB 467.6 kB/s eta 0:00:22\n",
      "    --------------------------------------- 0.2/10.2 MB 615.9 kB/s eta 0:00:17\n",
      "   - -------------------------------------- 0.3/10.2 MB 749.3 kB/s eta 0:00:14\n",
      "   - -------------------------------------- 0.3/10.2 MB 853.3 kB/s eta 0:00:12\n",
      "   - -------------------------------------- 0.4/10.2 MB 930.9 kB/s eta 0:00:11\n",
      "   - -------------------------------------- 0.5/10.2 MB 994.6 kB/s eta 0:00:10\n",
      "   -- ------------------------------------- 0.7/10.2 MB 1.3 MB/s eta 0:00:08\n",
      "   --- ------------------------------------ 0.9/10.2 MB 1.7 MB/s eta 0:00:06\n",
      "   ---- ----------------------------------- 1.3/10.2 MB 2.1 MB/s eta 0:00:05\n",
      "   ------ --------------------------------- 1.7/10.2 MB 2.6 MB/s eta 0:00:04\n",
      "   -------- ------------------------------- 2.2/10.2 MB 3.2 MB/s eta 0:00:03\n",
      "   ------------ --------------------------- 3.1/10.2 MB 4.2 MB/s eta 0:00:02\n",
      "   -------------- ------------------------- 3.8/10.2 MB 4.8 MB/s eta 0:00:02\n",
      "   ---------------- ----------------------- 4.3/10.2 MB 5.2 MB/s eta 0:00:02\n",
      "   ------------------ --------------------- 4.8/10.2 MB 5.6 MB/s eta 0:00:01\n",
      "   --------------------- ------------------ 5.5/10.2 MB 6.1 MB/s eta 0:00:01\n",
      "   ----------------------- ---------------- 6.1/10.2 MB 6.4 MB/s eta 0:00:01\n",
      "   -------------------------- ------------- 6.7/10.2 MB 6.7 MB/s eta 0:00:01\n",
      "   ---------------------------- ----------- 7.4/10.2 MB 7.0 MB/s eta 0:00:01\n",
      "   ------------------------------ --------- 7.9/10.2 MB 7.3 MB/s eta 0:00:01\n",
      "   --------------------------------- ------ 8.6/10.2 MB 7.5 MB/s eta 0:00:01\n",
      "   ----------------------------------- ---- 9.2/10.2 MB 7.8 MB/s eta 0:00:01\n",
      "   -------------------------------------- - 9.8/10.2 MB 8.0 MB/s eta 0:00:01\n",
      "   ---------------------------------------  10.2/10.2 MB 8.2 MB/s eta 0:00:01\n",
      "   ---------------------------------------  10.2/10.2 MB 8.2 MB/s eta 0:00:01\n",
      "   ---------------------------------------- 10.2/10.2 MB 7.8 MB/s eta 0:00:00\n",
      "Installing collected packages: gurobipy\n",
      "Successfully installed gurobipy-11.0.0\n"
     ]
    },
    {
     "name": "stderr",
     "output_type": "stream",
     "text": [
      "\n",
      "[notice] A new release of pip is available: 23.3.1 -> 23.3.2\n",
      "[notice] To update, run: C:\\Users\\dimak\\AppData\\Local\\Microsoft\\WindowsApps\\PythonSoftwareFoundation.Python.3.11_qbz5n2kfra8p0\\python.exe -m pip install --upgrade pip\n"
     ]
    }
   ],
   "source": [
    "!pip install gurobipy"
   ]
  },
  {
   "cell_type": "code",
   "execution_count": 2,
   "id": "371d2713",
   "metadata": {},
   "outputs": [],
   "source": [
    "import gurobipy as gp\n",
    "import numpy as np\n",
    "from gurobipy import GRB"
   ]
  },
  {
   "cell_type": "code",
   "execution_count": 3,
   "id": "ccdeec56",
   "metadata": {},
   "outputs": [],
   "source": [
    "K_p = 5\n",
    "Jj = 50\n",
    "\n",
    "q = [100, 300, 400, 200, 100]\n",
    "\n",
    "r = [[0, 177, 0, 120, 0], [0, 85, 129, 84, 55], [27, 51, 0, 0, 0], [0, 0, 36, 0, 0], [42, 0, 226, 0, 0],\n",
    "     [0, 115, 0, 0, 0], [52, 163, 172, 33, 0], [0, 0, 214, 70, 0], [42, 0, 0, 0, 46], [0, 0, 176, 107, 0],\n",
    "     [0, 163, 0, 0, 0], [20, 164, 201, 48, 48], [17, 0, 0, 0, 0], [0, 166, 0, 114, 0], [0, 106, 0, 0, 0],\n",
    "     [8, 0, 0, 0, 0], [0, 0, 0, 0, 55], [41, 0, 141, 0, 0], [0, 29, 118, 84, 29], [6, 0, 145, 0, 22],\n",
    "     [0, 0, 32, 0, 0], [22, 165, 0, 98, 0], [24, 0, 223, 0, 0], [51, 0, 0, 111, 0], [56, 0, 142, 0, 0],\n",
    "     [46, 0, 0, 0, 0], [0, 0, 0, 117, 9], [0, 0, 0, 24, 0], [0, 31, 0, 0, 40], [57, 0, 158, 0, 57],\n",
    "     [35, 0, 128, 0, 0], [42, 0, 0, 0, 29], [26, 0, 0, 0, 0], [41, 66, 0, 0, 11], [57, 48, 0, 0, 0],\n",
    "     [0, 149, 0, 58, 0], [23, 0, 0, 0, 0], [32, 0, 52, 0, 49], [0, 0, 0, 0, 35], [17, 85, 80, 0, 0],\n",
    "     [0, 168, 0, 0, 0], [0, 147, 129, 0, 0], [39, 59, 0, 0, 0], [12, 0, 0, 75, 0], [14, 126, 0, 88, 26],\n",
    "     [30, 0, 188, 0, 0], [0, 0, 0, 69, 0], [0, 0, 33, 0, 0], [15, 81, 0, 119, 0], [0, 75, 0, 0, 0]]\n",
    "\n",
    "p = [1, 10, 2, 6, 1, 2, 9, 1, 10, 6,\n",
    "     6, 5, 7, 2, 4, 2, 9, 4, 6, 8,\n",
    "     1, 2, 8, 1, 5, 6, 6, 4, 2, 5,\n",
    "     5, 8, 5, 7, 8, 6, 8, 4, 3, 9,\n",
    "     4, 9, 2, 8, 3, 10, 6, 1, 9, 6]\n",
    "\n",
    "a = [[0, 2], [2, 6], [4, 6], [6, 3], [3, 7],\n",
    "     [7, 24], [24, 19], [17, 18], [18, 19], [20, 24],\n",
    "     [25, 19], [29, 25], [19, 32], [32, 38], [36, 33],\n",
    "     [34, 33], [33, 38], [38, 37], [37, 42], [42, 45],\n",
    "     [45, 49], [47, 44], [46, 44], [44, 43], [43, 49]]"
   ]
  },
  {
   "cell_type": "code",
   "execution_count": 5,
   "id": "1486d145",
   "metadata": {},
   "outputs": [],
   "source": [
    "# Словарь предшественников\n",
    "predecessors_dict = {}\n",
    "\n",
    "for edge in a:\n",
    "    successor = edge[1]\n",
    "    predecessor = edge[0]\n",
    "\n",
    "    if successor not in predecessors_dict:\n",
    "        predecessors_dict[successor] = [predecessor]\n",
    "    else:\n",
    "        predecessors_dict[successor].append(predecessor)\n",
    "\n",
    "# Список предшественников для каждой работы\n",
    "P = [predecessors_dict.get(successor, []) for successor in range(Jj)]\n",
    "\n",
    "# Список предшественников для каждой работы\n",
    "P = [predecessors_dict.get(successor, []) for successor in range(Jj)]\n",
    "\n",
    "# Множество индексов работ\n",
    "J = np.arange(0, Jj, 1)\n",
    "\n",
    "# Массив времени завершения работ\n",
    "s = [-1] * Jj"
   ]
  },
  {
   "cell_type": "code",
   "execution_count": 11,
   "id": "fd7d5520",
   "metadata": {},
   "outputs": [],
   "source": [
    "# Функция определения завершенных работ\n",
    "def C(t):\n",
    "    return set(j for j in range(Jj) if s[j] >= 0 and s[j] + p[j] <= t)\n",
    "\n",
    "# Функция определения выполняемых работ\n",
    "def A(t):\n",
    "    return set(j for j in range(Jj) if s[j] >= 0 and s[j] <= t and s[j] + p[j] > t)\n",
    "\n",
    "# Функция объединения множеств\n",
    "def union(a, b):\n",
    "    return list(set(a + b))\n",
    "\n",
    "# Функция поиска множества A(t) без элементов множества C(t)\n",
    "def search_A(B, C):\n",
    "    A = B.copy()\n",
    "    for element in C:\n",
    "        if element in A:\n",
    "            A.remove(element)\n",
    "    return A\n",
    "\n",
    "# Функция определения работ, которые можно начать в момент времени t\n",
    "def D(t):\n",
    "    d = []\n",
    "    union_1 = A(t).union(C(t))\n",
    "    need = search_A(list(J), list(union_1))\n",
    "    for j in list(need):\n",
    "        pred_j = P[j]\n",
    "        P_set = set(pred_j)\n",
    "        C_set = set(C(t))\n",
    "        if P_set.issubset(C_set):\n",
    "            if len(list(A(t))) > 0:\n",
    "                for i in list(A(t)):\n",
    "                    for k in range(0, K_p):\n",
    "                        if r[i][k] + r[j][k] <= q[k]:\n",
    "                            d.append(j)\n",
    "            else:\n",
    "                d = need\n",
    "    d = set(d)\n",
    "    return d\n",
    "\n",
    "# Функция определения множества D(t_l) и решения задачи оптимизации\n",
    "def f_d(t_l):\n",
    "    d = list(D(t_l))\n",
    "    R = [0] * Jj\n",
    "    for j in list(D(t_l)):\n",
    "        summ = 0\n",
    "        for k in range(0, K_p):\n",
    "            summ += (float(r[j][k]) / q[k])\n",
    "        R[j] = summ\n",
    "\n",
    "    n = Jj\n",
    "    m = gp.Model()\n",
    "    x = m.addVars(n, vtype=GRB.BINARY)\n",
    "    for k in range(0, K_p):\n",
    "        s1 = 0\n",
    "        s2 = gp.LinExpr()\n",
    "        for i in list(A(t_l)):\n",
    "            s1 += r[i][k]\n",
    "        for j in d:\n",
    "            s2 += x[j] * r[j][k]\n",
    "        m.addConstr(s2 <= q[k] - s1)\n",
    "\n",
    "    s3 = 0\n",
    "    for j in d:\n",
    "        s3 += R[j] * x[j]\n",
    "\n",
    "    m.setParam('OutputFlag', 0)\n",
    "    m.setObjective(s3, GRB.MAXIMIZE)\n",
    "    m.optimize()\n",
    "    ans = [j for j in d if x[j].x == 1]\n",
    "    return ans\n",
    "\n",
    "# Функция поиска минимума между a и b\n",
    "def min_(a, b):\n",
    "    return a if a < b else b\n",
    "\n",
    "def find_tl(l):\n",
    "    if l < 2:\n",
    "        return 0\n",
    "    a = list(A(t[l - 1]))\n",
    "    minn = 100000\n",
    "    for i in range(len(a)):\n",
    "        minn = min_(minn, (s[a[i]] + p[a[i]]))\n",
    "    return minn"
   ]
  },
  {
   "cell_type": "code",
   "execution_count": 12,
   "id": "74322e90",
   "metadata": {},
   "outputs": [],
   "source": [
    "# Массив временных моментов\n",
    "t = [0] * 1000\n",
    "l = 0\n",
    "s = [-1] * Jj\n"
   ]
  },
  {
   "cell_type": "code",
   "execution_count": 13,
   "id": "5b8a23c4",
   "metadata": {},
   "outputs": [
    {
     "name": "stdout",
     "output_type": "stream",
     "text": [
      "Restricted license - for non-production use only - expires 2025-11-24\n"
     ]
    },
    {
     "name": "stdout",
     "output_type": "stream",
     "text": [
      "[9, 10, 12, 14, 20, 27, 28, 29, 32, 46, 47] 1 0\n",
      "[] 2 1\n",
      "[] 3 2\n",
      "[5] 4 4\n",
      "[15, 16, 22, 31] 5 5\n",
      "[26, 35, 41] 6 6\n",
      "[36] 7 7\n",
      "[] 8 12\n",
      "[44, 23] 9 13\n",
      "[4] 10 14\n",
      "[1, 17, 30] 11 15\n",
      "[21] 12 16\n",
      "[13] 13 18\n",
      "[34] 14 19\n",
      "[39, 18] 15 20\n",
      "[43] 16 25\n",
      "[] 17 26\n",
      "[8, 11] 18 27\n",
      "[] 19 29\n",
      "[0, 33] 20 32\n",
      "[48] 21 33\n",
      "[2] 22 37\n",
      "[38, 6] 23 39\n",
      "[37] 24 42\n",
      "[42] 25 46\n",
      "[3, 7, 40, 49, 19, 25] 26 48\n",
      "[45] 27 49\n",
      "[] 28 52\n",
      "[] 29 54\n",
      "[24] 30 56\n"
     ]
    }
   ],
   "source": [
    "# Основной цикл\n",
    "while (len(union(list(A(t[l])), list(C(t[l])))) < len(J)):\n",
    "    l += 1\n",
    "    t[l] = find_tl(l)\n",
    "    Q = [0] * K_p\n",
    "    for k in range(0, K_p):\n",
    "        s_r = 0\n",
    "        for j in A(t[l]):\n",
    "            s_r += r[j][k]\n",
    "            Q[k] = q[k] - s_r\n",
    "    D_new = f_d(t[l])\n",
    "    print(D_new, l, t[l])\n",
    "\n",
    "    for j in D_new:\n",
    "        s[j] = t[l]"
   ]
  },
  {
   "cell_type": "code",
   "execution_count": 14,
   "id": "9007e15a",
   "metadata": {},
   "outputs": [
    {
     "name": "stdout",
     "output_type": "stream",
     "text": [
      "{0, 1, 2, 3, 4, 5, 6, 7, 8, 9, 10, 11, 12, 13, 14, 15, 16, 17, 18, 19, 20, 21, 22, 23, 25, 26, 27, 28, 29, 30, 31, 32, 33, 34, 35, 36, 37, 38, 39, 40, 41, 42, 43, 44, 46, 47, 48, 49} {24, 45}\n",
      "C_max = 61\n"
     ]
    }
   ],
   "source": [
    "print(C(t[l]), A(t[l]))\n",
    "\n",
    "print(\"C_max =\", max([s[i] + p[i] for i in A(t[l])]))"
   ]
  }
 ],
 "metadata": {
  "colab": {
   "provenance": []
  },
  "kernelspec": {
   "display_name": "Python 3 (ipykernel)",
   "language": "python",
   "name": "python3"
  },
  "language_info": {
   "codemirror_mode": {
    "name": "ipython",
    "version": 3
   },
   "file_extension": ".py",
   "mimetype": "text/x-python",
   "name": "python",
   "nbconvert_exporter": "python",
   "pygments_lexer": "ipython3",
   "version": "3.11.7"
  }
 },
 "nbformat": 4,
 "nbformat_minor": 5
}
