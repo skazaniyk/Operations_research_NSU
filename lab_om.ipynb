{
 "cells": [
  {
   "cell_type": "code",
   "execution_count": 2,
   "id": "767e08e6-f51e-4e0d-b193-2f0a3eb7430a",
   "metadata": {},
   "outputs": [],
   "source": [
    "import numpy as np\n",
    "import pandas as pd\n",
    "from tqdm import tqdm"
   ]
  },
  {
   "cell_type": "code",
   "execution_count": 3,
   "id": "50d0867a-49c2-4748-982c-b53af78498a9",
   "metadata": {},
   "outputs": [],
   "source": [
    "df = pd.read_csv('knapPI_1_1000_1000.csv', delimiter=';')"
   ]
  },
  {
   "cell_type": "code",
   "execution_count": 4,
   "id": "996ed213-189f-4770-a8af-702e82414223",
   "metadata": {},
   "outputs": [
    {
     "data": {
      "text/html": [
       "<div>\n",
       "<style scoped>\n",
       "    .dataframe tbody tr th:only-of-type {\n",
       "        vertical-align: middle;\n",
       "    }\n",
       "\n",
       "    .dataframe tbody tr th {\n",
       "        vertical-align: top;\n",
       "    }\n",
       "\n",
       "    .dataframe thead th {\n",
       "        text-align: right;\n",
       "    }\n",
       "</style>\n",
       "<table border=\"1\" class=\"dataframe\">\n",
       "  <thead>\n",
       "    <tr style=\"text-align: right;\">\n",
       "      <th></th>\n",
       "      <th>knapsack capacity</th>\n",
       "      <th>5002</th>\n",
       "    </tr>\n",
       "  </thead>\n",
       "  <tbody>\n",
       "    <tr>\n",
       "      <th>0</th>\n",
       "      <td>94</td>\n",
       "      <td>485</td>\n",
       "    </tr>\n",
       "    <tr>\n",
       "      <th>1</th>\n",
       "      <td>506</td>\n",
       "      <td>326</td>\n",
       "    </tr>\n",
       "    <tr>\n",
       "      <th>2</th>\n",
       "      <td>416</td>\n",
       "      <td>248</td>\n",
       "    </tr>\n",
       "    <tr>\n",
       "      <th>3</th>\n",
       "      <td>992</td>\n",
       "      <td>421</td>\n",
       "    </tr>\n",
       "    <tr>\n",
       "      <th>4</th>\n",
       "      <td>649</td>\n",
       "      <td>322</td>\n",
       "    </tr>\n",
       "    <tr>\n",
       "      <th>...</th>\n",
       "      <td>...</td>\n",
       "      <td>...</td>\n",
       "    </tr>\n",
       "    <tr>\n",
       "      <th>995</th>\n",
       "      <td>949</td>\n",
       "      <td>336</td>\n",
       "    </tr>\n",
       "    <tr>\n",
       "      <th>996</th>\n",
       "      <td>89</td>\n",
       "      <td>931</td>\n",
       "    </tr>\n",
       "    <tr>\n",
       "      <th>997</th>\n",
       "      <td>488</td>\n",
       "      <td>588</td>\n",
       "    </tr>\n",
       "    <tr>\n",
       "      <th>998</th>\n",
       "      <td>568</td>\n",
       "      <td>449</td>\n",
       "    </tr>\n",
       "    <tr>\n",
       "      <th>999</th>\n",
       "      <td>526</td>\n",
       "      <td>566</td>\n",
       "    </tr>\n",
       "  </tbody>\n",
       "</table>\n",
       "<p>1000 rows × 2 columns</p>\n",
       "</div>"
      ],
      "text/plain": [
       "     knapsack capacity  5002\n",
       "0                   94   485\n",
       "1                  506   326\n",
       "2                  416   248\n",
       "3                  992   421\n",
       "4                  649   322\n",
       "..                 ...   ...\n",
       "995                949   336\n",
       "996                 89   931\n",
       "997                488   588\n",
       "998                568   449\n",
       "999                526   566\n",
       "\n",
       "[1000 rows x 2 columns]"
      ]
     },
     "execution_count": 4,
     "metadata": {},
     "output_type": "execute_result"
    }
   ],
   "source": [
    "df"
   ]
  },
  {
   "cell_type": "code",
   "execution_count": 55,
   "id": "dc571fee-3a67-41a6-9cdb-59550b23bfe0",
   "metadata": {},
   "outputs": [],
   "source": [
    "z_a = np.max(df['knapsack capacity'])\n",
    "p = df['knapsack capacity'].to_numpy()\n",
    "w = df['5002'].to_numpy()"
   ]
  },
  {
   "cell_type": "code",
   "execution_count": 56,
   "id": "b60f1e41-1d8f-4879-b731-038ad41a3832",
   "metadata": {},
   "outputs": [],
   "source": [
    "c = p/w\n",
    "el = list(zip(p,w,c))\n",
    "el.sort(key = lambda a:a[2], reverse = True)\n",
    "p, w,_ = zip(*el)"
   ]
  },
  {
   "cell_type": "code",
   "execution_count": 57,
   "id": "efa29107-31a0-4b93-b420-45da7d67aeab",
   "metadata": {},
   "outputs": [],
   "source": [
    "def greedy(set_j,C):\n",
    "    w_ = 0\n",
    "    z_g = 0\n",
    "    x = np.zeros(1000)\n",
    "    for i in set_j:\n",
    "        if w_+w[i]<=C:\n",
    "            x[i] = 1\n",
    "            w_ +=w[i]\n",
    "            z_g +=p[i]\n",
    "    return z_g\n"
   ]
  },
  {
   "cell_type": "code",
   "execution_count": 62,
   "id": "ef763362-f433-4f9e-beb9-cb6334e6cb69",
   "metadata": {},
   "outputs": [],
   "source": [
    "def max_from_set(set_):\n",
    "    max_ = -1000\n",
    "    for j in set_:\n",
    "        if p[j] > max_:\n",
    "            max_ = p[j]\n",
    "    return max_"
   ]
  },
  {
   "cell_type": "code",
   "execution_count": 66,
   "id": "7ccc3d94-8b21-4e6a-bdb1-99680ddcf1cc",
   "metadata": {},
   "outputs": [
    {
     "name": "stderr",
     "output_type": "stream",
     "text": [
      "100%|██████████████████████████████████████████████████████████████████████████████| 1000/1000 [10:57<00:00,  1.52it/s]\n"
     ]
    }
   ],
   "source": [
    "z_a = np.max(df['knapsack capacity'])\n",
    "for i in tqdm(range(1000)):\n",
    "    for j in range(1000):\n",
    "        if w[i]+w[j]<=5002:\n",
    "            min_ = np.min([p[i],p[j]])\n",
    "            set_ = set()\n",
    "            for l in range(1000):\n",
    "                if l!=i and l!=j and p[l]<=min_:\n",
    "                    set_.add(l)\n",
    "            z_g = greedy(set_,5002 - w[i] - w[j])\n",
    "            z_mg = np.max([z_g, max_from_set(set_)])\n",
    "            \n",
    "            if p[i]+p[j]+z_mg > z_a:\n",
    "                z_a = p[i] + p[j] + z_mg"
   ]
  },
  {
   "cell_type": "code",
   "execution_count": 67,
   "id": "3a172138-ad8d-46de-a45f-86c6e55ac1d4",
   "metadata": {},
   "outputs": [
    {
     "data": {
      "text/plain": [
       "55290"
      ]
     },
     "execution_count": 67,
     "metadata": {},
     "output_type": "execute_result"
    }
   ],
   "source": [
    "z_a"
   ]
  },
  {
   "cell_type": "markdown",
   "id": "c349f08c-372e-47ac-839a-6af9b2c520a4",
   "metadata": {},
   "source": [
    "Лаба 7"
   ]
  },
  {
   "cell_type": "code",
   "execution_count": 34,
   "id": "fb257685-6718-47f9-8fad-752839689a6d",
   "metadata": {},
   "outputs": [],
   "source": [
    "a = np.array([[0,1,1,0,0,0],[0,0,0,1,0,0],[0,0,0,1,1,0],[0,0,0,0,0,1],[0,0,0,0,0,1],[0,0,0,0,0,0]])\n",
    "p = np.array([2,3,4,1,8,3])\n"
   ]
  },
  {
   "cell_type": "code",
   "execution_count": 36,
   "id": "2b6c97db-3632-4989-83fb-8ea23d6ed097",
   "metadata": {},
   "outputs": [
    {
     "name": "stdout",
     "output_type": "stream",
     "text": [
      "[1. 3. 5. 2. 4. 6.]\n"
     ]
    }
   ],
   "source": [
    "n = len(p)\n",
    "N = np.zeros(n)\n",
    "for i in range(n):\n",
    "    for j in range(n):\n",
    "        N[i]+=a[i,j]\n",
    "        \n",
    "s = set(range(n))\n",
    "P = np.sum(p)\n",
    "schedule = np.zeros(n)\n",
    "for i in range(n-1,-1, -1):\n",
    "    j = np.argwhere(N == 0)[0,0]\n",
    "    s.remove(j)\n",
    "    N[j] = np.inf\n",
    "    schedule[i] = j\n",
    "    P -=p[j]\n",
    "    for k in range(n):\n",
    "        if a[k,j] == 1:\n",
    "            N[k]-=1\n",
    "    \n",
    "print(schedule+1)"
   ]
  },
  {
   "cell_type": "markdown",
   "id": "1cce2ded-80ed-4218-ad41-5f115ec1e23b",
   "metadata": {},
   "source": [
    "Лаба 9 |I| = 20, |J|=100"
   ]
  },
  {
   "cell_type": "code",
   "execution_count": null,
   "id": "ae60c4cb-81cd-4732-a237-d3920240cd25",
   "metadata": {},
   "outputs": [],
   "source": [
    "c = [35,47,47,38,37,41,48,45,29,27,24,21,20,41,25,47,40,48,48,50]"
   ]
  },
  {
   "cell_type": "code",
   "execution_count": 77,
   "id": "98f38276-5b1a-46f9-b2d6-1c50c56b73bd",
   "metadata": {},
   "outputs": [],
   "source": [
    "a = np.zeros((20,100))\n",
    "with open('setcover.txt') as f:\n",
    "    for i in range (20):\n",
    "        line = f.readline().replace('\\n','')\n",
    "        strings = line.split('\\t')\n",
    "        for index, el in enumerate(strings):\n",
    "            a[i,index] = int(el)  "
   ]
  },
  {
   "cell_type": "code",
   "execution_count": 78,
   "id": "76f83a13-b19c-47bb-b484-de791a09cef1",
   "metadata": {},
   "outputs": [
    {
     "data": {
      "text/plain": [
       "array([[0., 0., 1., ..., 0., 0., 1.],\n",
       "       [0., 0., 1., ..., 0., 0., 1.],\n",
       "       [1., 0., 0., ..., 0., 1., 0.],\n",
       "       ...,\n",
       "       [0., 0., 1., ..., 0., 0., 0.],\n",
       "       [0., 0., 0., ..., 0., 0., 0.],\n",
       "       [0., 1., 0., ..., 0., 0., 0.]])"
      ]
     },
     "execution_count": 78,
     "metadata": {},
     "output_type": "execute_result"
    }
   ],
   "source": [
    "a"
   ]
  },
  {
   "cell_type": "code",
   "execution_count": null,
   "id": "d838ccb1-8f5b-4517-810e-65f0fe4c9d44",
   "metadata": {},
   "outputs": [],
   "source": [
    "x = set()\n",
    "j = set()\n",
    "j_k = set()\n",
    "k = 0\n",
    "I = set(range(20))\n",
    "while len(j)!=100:\n",
    "    j_k =\n",
    "    min_= np.inf\n",
    "    i_0 = 0\n",
    "    for i in I.difference(x):\n",
    "        if np.any(a[i] == 1) and min_> c[i]/(a[i].sum()) :\n",
    "            i_0 = i\n",
    "            min_ = c[i]/(a[i].sum())\n",
    "            \n",
    "    k+=1\n",
    "    X.add(i_0)\n",
    "    j = j.union(j_k)\n",
    "    \n",
    "            \n",
    "        \n",
    "    "
   ]
  },
  {
   "cell_type": "markdown",
   "id": "311a2837-85b6-49ce-8483-cf0bfe4a93f6",
   "metadata": {},
   "source": [
    "Лаба 8"
   ]
  },
  {
   "cell_type": "code",
   "execution_count": 20,
   "id": "3c43e466-01c3-4587-bfae-3e06e1dc209f",
   "metadata": {},
   "outputs": [],
   "source": [
    "def f2cmax(p):\n",
    "    L = []\n",
    "    R = []\n",
    "    n = p.shape[0]\n",
    "    X = set(range(n))\n",
    "    while len(X)!= 0 :\n",
    "        min_ = np.inf\n",
    "        i_0 = 0\n",
    "        j_0 = 0\n",
    "        for i in X:\n",
    "            for j in range(2):\n",
    "                if p[i,j] <= min_:\n",
    "                    min_ = p[i,j]\n",
    "                    i_0, j_0 = i,j\n",
    "                    \n",
    "        if j_0 == 0:\n",
    "            L.append(i_0)\n",
    "        else:\n",
    "            R.insert(0,i_0)\n",
    "        X.remove(i_0)\n",
    "        \n",
    "        \n",
    "    return L + R\n",
    "        \n",
    "                    \n"
   ]
  },
  {
   "attachments": {
    "1d0bfaed-b700-4bf7-aa27-1c59b5dddbf1.png": {
     "image/png": "[encoded data removed]"
    }
   },
   "cell_type": "markdown",
   "id": "ac6df230-b7e4-4197-871d-76d0b18f7802",
   "metadata": {},
   "source": [
    "![image.png](attachment:1d0bfaed-b700-4bf7-aa27-1c59b5dddbf1.png)"
   ]
  },
  {
   "cell_type": "code",
   "execution_count": 21,
   "id": "99037270-f22c-431d-957d-33c85813a66a",
   "metadata": {},
   "outputs": [
    {
     "name": "stdout",
     "output_type": "stream",
     "text": [
      "4 3 1 5 2 \n",
      "\n",
      "4 3 1 5 2 \n",
      "\n"
     ]
    }
   ],
   "source": [
    "p = np.array([[4,8],[3,3],[3,4],[1,4],[8,7]])\n",
    "n = 5\n",
    "sol = f2cmax(p)\n",
    "for t in range(2):\n",
    "    for i in range(n):\n",
    "        print(sol[i]+1, end = ' ')\n",
    "    print('\\n')\n"
   ]
  },
  {
   "cell_type": "markdown",
   "id": "6c98e08f-6022-4738-9cb3-79664f0a4611",
   "metadata": {},
   "source": [
    "Лаба 4\n",
    "|K| = 5, |J| = 50"
   ]
  },
  {
   "cell_type": "code",
   "execution_count": 22,
   "id": "6dc8e7cd-12c1-44df-b25b-18af81b93fba",
   "metadata": {},
   "outputs": [],
   "source": [
    "q_k = [100,300,400,200,100]\n",
    "ro_j = [1,10,2,6,1,2,9,1,10,6,6,5,7,2,4,2,9,4,6,8,1,2,8,1,5,6,6,4,2,5,5,8,5,7,6,8,4,3,9,4,9,2,8,3,10,6,1,9,6]\n",
    "inc_mat = np.zeros((50,50))\n",
    "inc_mat[0,2]=1\n",
    "inc_mat[2,6]=1\n",
    "inc_mat[4,6]=1\n",
    "inc_mat[6,3]=1\n",
    "inc_mat[3,7]=1\n",
    "inc_mat[7,24] = 1\n",
    "inc_mat[24,19] = 1\n",
    "inc_mat[17,18]=1\n",
    "inc_mat[18,19]=1\n",
    "inc_mat[20,24]=1\n",
    "inc_mat[25,19]=1\n",
    "inc_mat[29,25]=1\n",
    "inc_mat[19,32]=1\n",
    "inc_mat[32,38]=1\n",
    "inc_mat[36,33]=1\n",
    "inc_mat[34,33]=1\n",
    "inc_mat[33,38]=1\n",
    "inc_mat[38,37]=1\n",
    "inc_mat[37,42]=1\n",
    "inc_mat[42,45]=1\n",
    "inc_mat[45,49]=1\n",
    "inc_mat[47,44]=1\n",
    "inc_mat[46,44]=1\n",
    "inc_mat[44,43]=1\n",
    "inc_mat[43,49]=1"
   ]
  },
  {
   "cell_type": "code",
   "execution_count": 27,
   "id": "c5fded52-604f-49a1-b0b9-93bcbf2a481a",
   "metadata": {},
   "outputs": [],
   "source": [
    "r_jk = np.zeros((50,5))\n",
    "with open('resourse.txt') as f:\n",
    "    for i in range (50):\n",
    "        line = f.readline().replace('\\n','')\n",
    "        strings = line.split('\\t')\n",
    "        for index, el in enumerate(strings):\n",
    "            r_jk[i,index] = int(el) "
   ]
  },
  {
   "cell_type": "code",
   "execution_count": 28,
   "id": "62c160cc-8046-484c-93b6-2919ed12d4d3",
   "metadata": {},
   "outputs": [
    {
     "data": {
      "text/plain": [
       "array([[  0., 177.,   0., 120.,   0.],\n",
       "       [  0.,  85., 129.,  84.,  55.],\n",
       "       [ 27.,  51.,   0.,   0.,   0.],\n",
       "       [  0.,   0.,  36.,   0.,   0.],\n",
       "       [ 42.,   0., 226.,   0.,   0.],\n",
       "       [  0., 115.,   0.,   0.,   0.],\n",
       "       [ 52., 163., 172.,  33.,   0.],\n",
       "       [  0.,   0., 214.,  70.,   0.],\n",
       "       [ 42.,   0.,   0.,   0.,  46.],\n",
       "       [  0.,   0., 176., 107.,   0.],\n",
       "       [  0., 163.,   0.,   0.,   0.],\n",
       "       [ 20., 164., 201.,  48.,  48.],\n",
       "       [ 17.,   0.,   0.,   0.,   0.],\n",
       "       [  0., 166.,   0., 114.,   0.],\n",
       "       [  0., 106.,   0.,   0.,   0.],\n",
       "       [  8.,   0.,   0.,   0.,   0.],\n",
       "       [  0.,   0.,   0.,   0.,  55.],\n",
       "       [ 41.,   0., 141.,   0.,   0.],\n",
       "       [  0.,  29., 118.,  84.,  29.],\n",
       "       [  6.,   0., 145.,   0.,  22.],\n",
       "       [  0.,   0.,  32.,   0.,   0.],\n",
       "       [ 22., 165.,   0.,  98.,   0.],\n",
       "       [ 24.,   0., 223.,   0.,   0.],\n",
       "       [ 51.,   0.,   0., 111.,   0.],\n",
       "       [ 56.,   0., 142.,   0.,   0.],\n",
       "       [ 46.,   0.,   0.,   0.,   0.],\n",
       "       [  0.,   0.,   0., 117.,   9.],\n",
       "       [  0.,   0.,   0.,  24.,   0.],\n",
       "       [  0.,  31.,   0.,   0.,  40.],\n",
       "       [ 57.,   0., 158.,   0.,  57.],\n",
       "       [ 35.,   0., 128.,   0.,   0.],\n",
       "       [ 42.,   0.,   0.,   0.,  29.],\n",
       "       [ 26.,   0.,   0.,   0.,   0.],\n",
       "       [ 41.,  66.,   0.,   0.,  11.],\n",
       "       [ 57.,  48.,   0.,   0.,   0.],\n",
       "       [  0., 149.,   0.,  58.,   0.],\n",
       "       [ 23.,   0.,   0.,   0.,   0.],\n",
       "       [ 32.,   0.,  52.,   0.,  49.],\n",
       "       [  0.,   0.,   0.,   0.,  35.],\n",
       "       [ 17.,  85.,  80.,   0.,   0.],\n",
       "       [  0., 168.,   0.,   0.,   0.],\n",
       "       [  0., 147., 129.,   0.,   0.],\n",
       "       [ 39.,  59.,   0.,   0.,   0.],\n",
       "       [ 12.,   0.,   0.,  75.,   0.],\n",
       "       [ 14., 126.,   0.,  88.,  26.],\n",
       "       [ 30.,   0., 188.,   0.,   0.],\n",
       "       [  0.,   0.,   0.,  69.,   0.],\n",
       "       [  0.,   0.,  33.,   0.,   0.],\n",
       "       [ 15.,  81.,   0., 119.,   0.],\n",
       "       [  0.,  75.,   0.,   0.,   0.]])"
      ]
     },
     "execution_count": 28,
     "metadata": {},
     "output_type": "execute_result"
    }
   ],
   "source": [
    "r_jk"
   ]
  },
  {
   "cell_type": "code",
   "execution_count": null,
   "id": "a99f83db-4862-4d0f-b51c-dd1e284559df",
   "metadata": {},
   "outputs": [],
   "source": [
    "t = []\n",
    "t[0] = 0\n",
    "C = []\n",
    "C[0] = set()\n",
    "A = []\n",
    "A[0] = set()\n",
    "l = 0\n",
    "while len(C[t[0]].union(A[t[0]])) < 50:\n",
    "    l+=1\n",
    "    for j in A[t[l-1]]:\n",
    "        t[l] = min([s[j] + ro_j[j]])\n",
    "        \n",
    "    "
   ]
  },
  {
   "cell_type": "markdown",
   "id": "95551063-23f2-46eb-9896-ec17a11a76bf",
   "metadata": {},
   "source": [
    "Лаба 2"
   ]
  },
  {
   "cell_type": "code",
   "execution_count": 59,
   "id": "f9302e47-7ff3-4a7e-a9e7-364d7d039bf7",
   "metadata": {},
   "outputs": [],
   "source": [
    "bin_size = 100\n",
    "with open('binpack.txt','r') as f:\n",
    "    binpack = f.read()\n",
    "    \n",
    "binpack = binpack.split('\\n')"
   ]
  },
  {
   "cell_type": "code",
   "execution_count": 60,
   "id": "ecc790d5-013e-49b4-89ef-e81a40e209c2",
   "metadata": {},
   "outputs": [],
   "source": [
    "binpack = binpack[1:]"
   ]
  },
  {
   "cell_type": "code",
   "execution_count": 61,
   "id": "cbb18685-3d1a-4664-9f1d-afb888d39141",
   "metadata": {},
   "outputs": [],
   "source": [
    "for i in range(len(binpack)):\n",
    "    binpack[i] = float(binpack[i])\n"
   ]
  },
  {
   "cell_type": "markdown",
   "id": "7f74c54c-da81-462c-9751-5e38fefbc53d",
   "metadata": {},
   "source": [
    "**Online**"
   ]
  },
  {
   "cell_type": "markdown",
   "id": "0afa97f2-b358-4771-ad53-380f77d95c72",
   "metadata": {},
   "source": [
    "Next fit"
   ]
  },
  {
   "cell_type": "code",
   "execution_count": 62,
   "id": "e72331fc-02ba-4c51-8835-393f80a9463e",
   "metadata": {},
   "outputs": [],
   "source": [
    "def next_fit(current_flow: float, current_container: float, max_size: float):\n",
    "    if current_container + current_flow > max_size:\n",
    "        return False #close container, return counter#\n",
    "    else:\n",
    "        return True"
   ]
  },
  {
   "cell_type": "code",
   "execution_count": 63,
   "id": "b9ba8ea0-cb1d-458e-b342-54cd6a6ca798",
   "metadata": {},
   "outputs": [],
   "source": [
    "def NF_flow(all_flow: list, max_size: float):\n",
    "    container_counter = 1\n",
    "    current_container = 0\n",
    "    for prod in all_flow:\n",
    "        if next_fit(prod, current_container, max_size):\n",
    "            current_container += prod\n",
    "        else:\n",
    "            # print(current_container)\n",
    "            container_counter+=1\n",
    "            current_container = prod\n",
    "    return container_counter"
   ]
  },
  {
   "cell_type": "code",
   "execution_count": 64,
   "id": "47d84653-6eab-484e-9da9-88323f06b828",
   "metadata": {},
   "outputs": [
    {
     "data": {
      "text/plain": [
       "208"
      ]
     },
     "execution_count": 64,
     "metadata": {},
     "output_type": "execute_result"
    }
   ],
   "source": [
    "np.random.shuffle(binpack)\n",
    "NF_flow(binpack,bin_size)"
   ]
  },
  {
   "cell_type": "markdown",
   "id": "d082e906-c349-4d10-a59a-28a251698499",
   "metadata": {},
   "source": [
    "First fit"
   ]
  },
  {
   "cell_type": "code",
   "execution_count": 46,
   "id": "b5042e32-dd93-4a57-971f-35d64ecb48e0",
   "metadata": {},
   "outputs": [],
   "source": [
    "def first_fit(current_flow: float, current_containers: list, max_size: float):\n",
    "    for i in range(len(current_containers)):\n",
    "        if current_containers[i] + current_flow < max_size:\n",
    "            current_containers[i] += current_flow\n",
    "            return current_containers\n",
    "    return current_containers + [current_flow]"
   ]
  },
  {
   "cell_type": "code",
   "execution_count": 47,
   "id": "7554d4e2-5a3b-4d7a-9ffb-7b16608c5210",
   "metadata": {},
   "outputs": [],
   "source": [
    "def FF_flow(all_flow: list, max_size: int):\n",
    "    current_containers = [0]\n",
    "    for prod in all_flow:\n",
    "        current_containers = first_fit(prod, current_containers, max_size)\n",
    "    return len(current_containers)"
   ]
  },
  {
   "cell_type": "code",
   "execution_count": 65,
   "id": "bd672f8a-2524-46be-9e8d-2512753de188",
   "metadata": {},
   "outputs": [
    {
     "data": {
      "text/plain": [
       "190"
      ]
     },
     "execution_count": 65,
     "metadata": {},
     "output_type": "execute_result"
    }
   ],
   "source": [
    "FF_flow(binpack,bin_size)"
   ]
  },
  {
   "cell_type": "markdown",
   "id": "ba30167a-71b0-410b-a42f-27b56e45e2fc",
   "metadata": {},
   "source": [
    "**Offline**"
   ]
  },
  {
   "cell_type": "markdown",
   "id": "b629775c-3c30-4f50-a33b-23373dd8e38d",
   "metadata": {},
   "source": [
    " Next-fit-decreasing"
   ]
  },
  {
   "cell_type": "code",
   "execution_count": 67,
   "id": "efdb60fd-73ed-40a7-89d7-6695e2e54bd0",
   "metadata": {},
   "outputs": [],
   "source": [
    "def next_fit_decreasing(all_flow: list, max_size: float):\n",
    "    all_flow = sorted(all_flow,reverse=True)\n",
    "    return NF_flow(all_flow, max_size)"
   ]
  },
  {
   "cell_type": "code",
   "execution_count": 68,
   "id": "f8093b39-5086-417b-8c67-aa2e37b783c9",
   "metadata": {},
   "outputs": [
    {
     "data": {
      "text/plain": [
       "202"
      ]
     },
     "execution_count": 68,
     "metadata": {},
     "output_type": "execute_result"
    }
   ],
   "source": [
    "next_fit_decreasing(binpack, bin_size)"
   ]
  },
  {
   "cell_type": "code",
   "execution_count": 69,
   "id": "ae99e75a-88ea-482d-a188-f132eeef1cd8",
   "metadata": {},
   "outputs": [],
   "source": [
    "def Modified_first_fit_decreasing(all_flow: list, max_size: float):\n",
    "    large_flow = []\n",
    "    medium_flow = []\n",
    "    small_flow = []\n",
    "    v_small_flow = []\n",
    "    for prod in all_flow:\n",
    "        if prod > max_size / 2:\n",
    "            large_flow.append(prod)\n",
    "        elif prod > max_size / 3:\n",
    "            medium_flow.append(prod)\n",
    "        elif prod > max_size / 6:\n",
    "            small_flow.append(prod)\n",
    "        else:\n",
    "            v_small_flow.append(prod)\n",
    "            \n",
    "    all_flow = large_flow + medium_flow + small_flow + v_small_flow\n",
    "    return FF_flow(all_flow, max_size)"
   ]
  },
  {
   "cell_type": "code",
   "execution_count": 70,
   "id": "63972e8b-8c31-4357-ac78-e630b2cd658f",
   "metadata": {},
   "outputs": [
    {
     "data": {
      "text/plain": [
       "198"
      ]
     },
     "execution_count": 70,
     "metadata": {},
     "output_type": "execute_result"
    }
   ],
   "source": [
    "Modified_first_fit_decreasing(binpack,bin_size + 10e-16)"
   ]
  },
  {
   "cell_type": "code",
   "execution_count": 73,
   "id": "f3b86f40-65bb-4427-b7ac-5508ee304c90",
   "metadata": {},
   "outputs": [],
   "source": [
    "import math"
   ]
  },
  {
   "cell_type": "code",
   "execution_count": 76,
   "id": "b9f18c9d-24c7-46be-a09a-419aa712065d",
   "metadata": {},
   "outputs": [],
   "source": [
    "def Martello_Toth(all_flow: list,alpha: float, max_size: float):\n",
    "    L_1 = []\n",
    "    L_2 = []\n",
    "    L_3 = []\n",
    "    all_flow_percent = np.array(all_flow) / max_size\n",
    "    for i in range(len(all_flow_percent)):\n",
    "        if all_flow_percent[i] > 1 - alpha:\n",
    "            L_1.append(i)\n",
    "        elif all_flow_percent[i] > 1/2 and all_flow_percent[i] <= 1 - alpha:\n",
    "            L_2.append(i)\n",
    "        elif all_flow_percent[i] >= alpha and all_flow_percent[i] <= 1/2:\n",
    "            L_3.append(i)\n",
    "    H_1 = len(L_1) + len(L_2) + max(0,np.ceil(sum([all_flow_percent[i] for i in L_3]) - (len(L_2) - sum([all_flow_percent[i] for i in L_2]))))\n",
    "    summ_L_2 = 0\n",
    "    for i in L_2:\n",
    "        summ_L_2 += math.floor((1 - all_flow_percent[i]) / alpha)\n",
    "        \n",
    "    H_2 = len(L_1) + len(L_2) + max(0, np.ceil((len(L_3) - summ_L_2) / math.floor(1 / alpha)))\n",
    "    return max([H_1,H_2])\n",
    "    "
   ]
  },
  {
   "cell_type": "code",
   "execution_count": 77,
   "id": "12cecdd0-c562-4773-b38f-d0894a35f755",
   "metadata": {},
   "outputs": [
    {
     "data": {
      "text/plain": [
       "[167.0, 167.0, 167.0, 167.0, 167.0, 101.0, 93.0, 58.0, 31.0]"
      ]
     },
     "execution_count": 77,
     "metadata": {},
     "output_type": "execute_result"
    }
   ],
   "source": [
    "[Martello_Toth(binpack, i, bin_size) for i in  np.linspace(0,1/2,11)[1:-1]]"
   ]
  },
  {
   "cell_type": "code",
   "execution_count": null,
   "id": "f84914ec-fccb-44bc-a214-dd5bad6bbbe9",
   "metadata": {},
   "outputs": [],
   "source": []
  }
 ],
 "metadata": {
  "kernelspec": {
   "display_name": "Python 3 (ipykernel)",
   "language": "python",
   "name": "python3"
  },
  "language_info": {
   "codemirror_mode": {
    "name": "ipython",
    "version": 3
   },
   "file_extension": ".py",
   "mimetype": "text/x-python",
   "name": "python",
   "nbconvert_exporter": "python",
   "pygments_lexer": "ipython3",
   "version": "3.9.5"
  }
 },
 "nbformat": 4,
 "nbformat_minor": 5
}
