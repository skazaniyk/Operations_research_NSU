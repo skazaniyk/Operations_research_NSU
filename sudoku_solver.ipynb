{
 "cells": [
  {
   "cell_type": "code",
   "execution_count": 1,
   "id": "c2632560",
   "metadata": {},
   "outputs": [],
   "source": [
    "import numpy as np"
   ]
  },
  {
   "cell_type": "code",
   "execution_count": 10,
   "id": "3f7dd9e0",
   "metadata": {},
   "outputs": [],
   "source": [
    "with open('Sudoku_Regions.txt') as f:\n",
    "    content = f.read()\n",
    "dict_construct = 'regions_dict = {' + content + '}'\n",
    "regions_dict = {}\n",
    "exec(dict_construct)\n",
    "numbers_set = {1, 2, 3, 4, 5, 6, 7, 8, 9}"
   ]
  },
  {
   "cell_type": "code",
   "execution_count": 11,
   "id": "ecd69eec-b24d-41d6-8262-9867125d9967",
   "metadata": {},
   "outputs": [],
   "source": [
    "def construct_sudoku_array():\n",
    "    with open('Sudoku.txt') as f:\n",
    "        file_content = list(filter((lambda x: x != ',' and x != '\\n'), list(f.read())))\n",
    "    sudoku_array = np.array(file_content, dtype=int).reshape(9, 9)\n",
    "    return sudoku_array\n",
    "\n",
    "\n",
    "def find_empty(x):\n",
    "    empty_items_list = []\n",
    "    for index, item in np.ndenumerate(x):\n",
    "        if item == 0:\n",
    "            empty_items_list.append(index)\n",
    "    if len(empty_items_list) != 0:\n",
    "        empty_items_num_of_available_numbers = []\n",
    "        for i in empty_items_list:\n",
    "            a = len(find_available_numbers(x, i[0], i[1]))\n",
    "            empty_items_num_of_available_numbers.append(a)\n",
    "\n",
    "        return empty_items_list[empty_items_num_of_available_numbers.index(min(empty_items_num_of_available_numbers))]\n",
    "    return None\n",
    "\n",
    "\n",
    "def find_region(i, j):\n",
    "    for v, d in regions_dict.items():\n",
    "        if (i, j) in d:\n",
    "            return v\n",
    "\n",
    "\n",
    "def find_regional_numbers_set(x, i, j):\n",
    "    regional_points = regions_dict[find_region(i, j)]\n",
    "    regional_points_set = set(x[a] for a in regional_points)\n",
    "    return regional_points_set\n",
    "\n",
    "\n",
    "def find_available_numbers(x, i, j):\n",
    "    set_1 = set(x[i, :])\n",
    "    set_2 = set(x[:, j])\n",
    "    set_3 = find_regional_numbers_set(x, i, j)\n",
    "    return numbers_set.difference(set_1.union(set_2.union(set_3)))\n",
    "\n",
    "\n",
    "def solve(sudoku_array):\n",
    "    empty_index = find_empty(sudoku_array)\n",
    "    if not empty_index:\n",
    "        return True\n",
    "    available_numbers = find_available_numbers(sudoku_array, empty_index[0], empty_index[1])\n",
    "    if len(available_numbers) == 0:\n",
    "        return False\n",
    "    for x in available_numbers:\n",
    "        sudoku_array[empty_index] = x\n",
    "        if solve(sudoku_array):\n",
    "            return True\n",
    "        sudoku_array[empty_index] = 0\n",
    "    return False"
   ]
  },
  {
   "cell_type": "code",
   "execution_count": 12,
   "id": "ec8eaeed-52ce-4681-a417-2c85e175402e",
   "metadata": {},
   "outputs": [
    {
     "name": "stdout",
     "output_type": "stream",
     "text": [
      "(0, 0)\n"
     ]
    }
   ],
   "source": [
    "sudoku = construct_sudoku_array()\n",
    "\n",
    "print(find_empty(sudoku))\n",
    "solve(sudoku)\n",
    "print(sudoku)"
   ]
  },
  {
   "cell_type": "code",
   "execution_count": null,
   "id": "229a8366-13db-4dc9-8904-aa8ff491a317",
   "metadata": {},
   "outputs": [],
   "source": []
  }
 ],
 "metadata": {
  "kernelspec": {
   "display_name": "Python 3 (ipykernel)",
   "language": "python",
   "name": "python3"
  },
  "language_info": {
   "codemirror_mode": {
    "name": "ipython",
    "version": 3
   },
   "file_extension": ".py",
   "mimetype": "text/x-python",
   "name": "python",
   "nbconvert_exporter": "python",
   "pygments_lexer": "ipython3",
   "version": "3.11.7"
  }
 },
 "nbformat": 4,
 "nbformat_minor": 5
}
