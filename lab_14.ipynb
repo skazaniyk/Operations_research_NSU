{
 "cells": [
  {
   "cell_type": "markdown",
   "metadata": {},
   "source": [
    "![](lab_14_task.jpg)"
   ]
  },
  {
   "cell_type": "code",
   "execution_count": 1,
   "metadata": {},
   "outputs": [],
   "source": [
    "import random\n",
    "import numpy as np"
   ]
  },
  {
   "cell_type": "code",
   "execution_count": 33,
   "metadata": {},
   "outputs": [],
   "source": [
    "n = 5\n",
    "random_array = np.random.randint(1, 20, size=(n, 2))"
   ]
  },
  {
   "cell_type": "code",
   "execution_count": 34,
   "metadata": {},
   "outputs": [
    {
     "data": {
      "text/plain": [
       "array([[ 8,  2],\n",
       "       [ 7, 18],\n",
       "       [13,  4],\n",
       "       [ 9, 12],\n",
       "       [ 6,  4]])"
      ]
     },
     "execution_count": 34,
     "metadata": {},
     "output_type": "execute_result"
    }
   ],
   "source": [
    "random_array"
   ]
  },
  {
   "cell_type": "code",
   "execution_count": 52,
   "metadata": {},
   "outputs": [],
   "source": [
    "def johnson_algorithm(array):\n",
    "    best_c = 100000000000\n",
    "    best_index_jobs = -1\n",
    "    for i in range(len(array)):\n",
    "        current_c = np.sum(array[:i, 0]) + np.sum(array[i:, 1])\n",
    "        if current_c < best_c:\n",
    "            best_c = current_c\n",
    "            best_index_jobs = i\n",
    "    return best_c, best_index_jobs"
   ]
  },
  {
   "cell_type": "code",
   "execution_count": 53,
   "metadata": {},
   "outputs": [],
   "source": [
    "best_c, best_index_jobs = johnson_algorithm(random_array)"
   ]
  },
  {
   "cell_type": "code",
   "execution_count": 54,
   "metadata": {},
   "outputs": [
    {
     "name": "stdout",
     "output_type": "stream",
     "text": [
      "Самое быстрое время выполнения: 35. С работы 2 нужно перейти на вторую машину\n"
     ]
    }
   ],
   "source": [
    "print(f\"Самое быстрое время выполнения: {best_c}. С работы {best_index_jobs} нужно перейти на вторую машину\")"
   ]
  },
  {
   "cell_type": "code",
   "execution_count": 48,
   "metadata": {},
   "outputs": [
    {
     "name": "stdout",
     "output_type": "stream",
     "text": [
      "[8 7]\n",
      "[ 4 12  4]\n"
     ]
    }
   ],
   "source": [
    "array = random_array\n",
    "i = 2\n",
    "print(array[:i, 0])\n",
    "print(array[i:, 1])"
   ]
  },
  {
   "cell_type": "code",
   "execution_count": null,
   "metadata": {},
   "outputs": [],
   "source": []
  }
 ],
 "metadata": {
  "kernelspec": {
   "display_name": "Python 3",
   "language": "python",
   "name": "python3"
  },
  "language_info": {
   "codemirror_mode": {
    "name": "ipython",
    "version": 3
   },
   "file_extension": ".py",
   "mimetype": "text/x-python",
   "name": "python",
   "nbconvert_exporter": "python",
   "pygments_lexer": "ipython3",
   "version": "3.11.7"
  }
 },
 "nbformat": 4,
 "nbformat_minor": 2
}
