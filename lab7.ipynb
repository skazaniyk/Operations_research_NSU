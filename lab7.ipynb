{
 "cells": [
  {
   "cell_type": "code",
   "execution_count": null,
   "metadata": {},
   "outputs": [],
   "source": [
    "!pip install pulp"
   ]
  },
  {
   "cell_type": "code",
   "execution_count": 10,
   "metadata": {},
   "outputs": [],
   "source": [
    "import numpy as np\n",
    "from pulp import LpProblem, LpMinimize, LpVariable, value\n",
    "\n",
    "# Создаем задачу\n",
    "problem = LpProblem(\"Optimal_Sheet_Purchase\", LpMinimize)\n",
    "\n",
    "ks = [555, 700, 1000, 1111]\n",
    "r = np.array([[0, 1, 1, 0, 0, 0],\n",
    "              [1, 0, 0, 0, 0, 0],\n",
    "              [1, 0, 1, 5, 4, 2],\n",
    "              [1, 2, 0, 0, 2, 4]])\n",
    "x1 = pulp.LpVariable(\"x1\", lowBound=0, cat=\"Integer\")\n",
    "x2 = pulp.LpVariable(\"x2\", lowBound=0, cat=\"Integer\")\n",
    "x3 = pulp.LpVariable(\"x3\", lowBound=0, cat=\"Integer\")\n",
    "x4 = pulp.LpVariable(\"x4\", lowBound=0, cat=\"Integer\")\n",
    "x5 = pulp.LpVariable(\"x5\", lowBound=0, cat=\"Integer\")\n",
    "x6 = pulp.LpVariable(\"x6\", lowBound=0, cat=\"Integer\")\n",
    "\n",
    "xs = [x1, x2, x3, x4, x5, x6]\n",
    "\n",
    "for i in range(4):\n",
    "    s = 0\n",
    "    for j in range(6):\n",
    "        s += r[i, j] * xs[j] \n",
    "\n",
    "    problem += s >= ks[i], f\"Constraint for i={i}\"\n",
    "\n",
    "objective = sum(xs)\n",
    "problem += objective, \"Num sheets target function\""
   ]
  },
  {
   "cell_type": "code",
   "execution_count": 11,
   "metadata": {},
   "outputs": [
    {
     "data": {
      "text/plain": [
       "0:\n",
       "MINIMIZE\n",
       "1*x1 + 1*x2 + 1*x3 + 1*x4 + 1*x5 + 1*x6 + 0\n",
       "SUBJECT TO\n",
       "Constraint_for_i=0: x2 + x3 >= 555\n",
       "\n",
       "Constraint_for_i=1: x1 >= 700\n",
       "\n",
       "Constraint_for_i=2: x1 + x3 + 5 x4 + 4 x5 + 2 x6 >= 1000\n",
       "\n",
       "Constraint_for_i=3: x1 + 2 x2 + 2 x5 + 4 x6 >= 1111\n",
       "\n",
       "VARIABLES\n",
       "0 <= x1 Integer\n",
       "0 <= x2 Integer\n",
       "0 <= x3 Integer\n",
       "0 <= x4 Integer\n",
       "0 <= x5 Integer\n",
       "0 <= x6 Integer"
      ]
     },
     "execution_count": 11,
     "metadata": {},
     "output_type": "execute_result"
    }
   ],
   "source": [
    "problem"
   ]
  },
  {
   "cell_type": "code",
   "execution_count": 12,
   "metadata": {},
   "outputs": [
    {
     "name": "stdout",
     "output_type": "stream",
     "text": [
      "Welcome to the CBC MILP Solver \n",
      "Version: 2.10.3 \n",
      "Build Date: Dec 15 2019 \n",
      "\n",
      "command line - /home/sergei/.local/lib/python3.10/site-packages/pulp/solverdir/cbc/linux/64/cbc /tmp/79e10c127fd04ca08d234e20a9e304e9-pulp.mps timeMode elapsed branch printingOptions all solution /tmp/79e10c127fd04ca08d234e20a9e304e9-pulp.sol (default strategy 1)\n",
      "At line 2 NAME          MODEL\n",
      "At line 3 ROWS\n",
      "At line 9 COLUMNS\n",
      "At line 40 RHS\n",
      "At line 45 BOUNDS\n",
      "At line 52 ENDATA\n",
      "Problem MODEL has 4 rows, 6 columns and 12 elements\n",
      "Coin0008I MODEL read with 0 errors\n",
      "Option for timeMode changed from cpu to elapsed\n",
      "Continuous objective value is 1255 - 0.00 seconds\n",
      "Cgl0003I 0 fixed, 6 tightened bounds, 0 strengthened rows, 0 substitutions\n",
      "Cgl0004I processed model has 3 rows, 6 columns (6 integer (0 of which binary)) and 11 elements\n",
      "Cutoff increment increased from 1e-05 to 0.9999\n",
      "Cbc0012I Integer solution of 1255 found by greedy cover after 0 iterations and 0 nodes (0.01 seconds)\n",
      "Cbc0001I Search completed - best objective 1255, took 0 iterations and 0 nodes (0.01 seconds)\n",
      "Cbc0035I Maximum depth 0, 0 variables fixed on reduced cost\n",
      "Cuts at root node changed objective from 1255 to 1255\n",
      "Probing was tried 0 times and created 0 cuts of which 0 were active after adding rounds of cuts (0.000 seconds)\n",
      "Gomory was tried 0 times and created 0 cuts of which 0 were active after adding rounds of cuts (0.000 seconds)\n",
      "Knapsack was tried 0 times and created 0 cuts of which 0 were active after adding rounds of cuts (0.000 seconds)\n",
      "Clique was tried 0 times and created 0 cuts of which 0 were active after adding rounds of cuts (0.000 seconds)\n",
      "MixedIntegerRounding2 was tried 0 times and created 0 cuts of which 0 were active after adding rounds of cuts (0.000 seconds)\n",
      "FlowCover was tried 0 times and created 0 cuts of which 0 were active after adding rounds of cuts (0.000 seconds)\n",
      "TwoMirCuts was tried 0 times and created 0 cuts of which 0 were active after adding rounds of cuts (0.000 seconds)\n",
      "ZeroHalf was tried 0 times and created 0 cuts of which 0 were active after adding rounds of cuts (0.000 seconds)\n",
      "\n",
      "Result - Optimal solution found\n",
      "\n",
      "Objective value:                1255.00000000\n",
      "Enumerated nodes:               0\n",
      "Total iterations:               0\n",
      "Time (CPU seconds):             0.01\n",
      "Time (Wallclock seconds):       0.02\n",
      "\n",
      "Option for printingOptions changed from normal to all\n",
      "Total time (CPU seconds):       0.01   (Wallclock seconds):       0.02\n",
      "\n",
      "Number of frames:\n",
      "1255.0\n",
      "Result:\n",
      "x1 = 700.0\n",
      "x2 = 255.0\n",
      "x3 = 300.0\n",
      "x4 = 0.0\n",
      "x5 = 0.0\n",
      "x6 = 0.0\n"
     ]
    }
   ],
   "source": [
    "problem.solve()\n",
    "\n",
    "print(\"Optimal number of sheets to buy:\")\n",
    "print(value(objective))\n",
    "print(\"Result:\")\n",
    "for variable in problem.variables():\n",
    "    print(variable.name, \"=\", variable.varValue)"
   ]
  },
  {
   "cell_type": "code",
   "execution_count": 13,
   "metadata": {},
   "outputs": [
    {
     "name": "stdout",
     "output_type": "stream",
     "text": [
      "To buy: 1105\n"
     ]
    }
   ],
   "source": [
    "minimal_num_sheets = 1255\n",
    "to_buy = minimal_num_sheets - 50 - 100\n",
    "print(f\"To buy: {to_buy}\")"
   ]
  },
  {
   "cell_type": "code",
   "execution_count": null,
   "metadata": {},
   "outputs": [],
   "source": []
  }
 ],
 "metadata": {
  "kernelspec": {
   "display_name": "Python 3",
   "language": "python",
   "name": "python3"
  },
  "language_info": {
   "codemirror_mode": {
    "name": "ipython",
    "version": 3
   },
   "file_extension": ".py",
   "mimetype": "text/x-python",
   "name": "python",
   "nbconvert_exporter": "python",
   "pygments_lexer": "ipython3",
   "version": "3.10.12"
  },
  "orig_nbformat": 4
 },
 "nbformat": 4,
 "nbformat_minor": 2
}
